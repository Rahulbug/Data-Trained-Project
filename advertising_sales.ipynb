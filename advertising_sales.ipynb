{
 "cells": [
  {
   "cell_type": "markdown",
   "id": "3f313e8b",
   "metadata": {},
   "source": [
    "Advertising Sales Channel Prediction\n",
    "\n",
    "\n",
    "Problem Statement:"
   ]
  },
  {
   "cell_type": "markdown",
   "id": "ae29ba81",
   "metadata": {},
   "source": [
    "When a company enters a market, the distribution strategy and channel it uses are keys to its success in the market, as well as market know-how and customer knowledge and understanding. Because an effective distribution strategy under efficient supply-chain management opens doors for attaining competitive advantage and strong brand equity in the market, it is a component of the marketing mix that cannot be ignored .\n",
    "\n",
    "The distribution strategy and the channel design have to be right the first time. The case study of Sales channel includes the detailed study of TV, radio and newspaper channel. The predict the total sales generated from all the sales channel."
   ]
  },
  {
   "cell_type": "code",
   "execution_count": 2,
   "id": "bdb84935",
   "metadata": {},
   "outputs": [],
   "source": [
    "#importing necessary libraries\n",
    "import pandas as pd\n",
    "import numpy as np\n",
    "import matplotlib.pyplot as plt\n",
    "import seaborn as sns\n",
    "import warnings\n",
    "warnings.filterwarnings('ignore')"
   ]
  },
  {
   "cell_type": "code",
   "execution_count": 3,
   "id": "cd50b1d0",
   "metadata": {},
   "outputs": [],
   "source": [
    "#LOADING DATASET USING PANDA\n",
    "df=pd.read_csv(r'advertising_sales.csv')"
   ]
  },
  {
   "cell_type": "code",
   "execution_count": 4,
   "id": "f53f1619",
   "metadata": {},
   "outputs": [
    {
     "data": {
      "text/html": [
       "<div>\n",
       "<style scoped>\n",
       "    .dataframe tbody tr th:only-of-type {\n",
       "        vertical-align: middle;\n",
       "    }\n",
       "\n",
       "    .dataframe tbody tr th {\n",
       "        vertical-align: top;\n",
       "    }\n",
       "\n",
       "    .dataframe thead th {\n",
       "        text-align: right;\n",
       "    }\n",
       "</style>\n",
       "<table border=\"1\" class=\"dataframe\">\n",
       "  <thead>\n",
       "    <tr style=\"text-align: right;\">\n",
       "      <th></th>\n",
       "      <th>Unnamed: 0</th>\n",
       "      <th>TV</th>\n",
       "      <th>radio</th>\n",
       "      <th>newspaper</th>\n",
       "      <th>sales</th>\n",
       "    </tr>\n",
       "  </thead>\n",
       "  <tbody>\n",
       "    <tr>\n",
       "      <th>0</th>\n",
       "      <td>1</td>\n",
       "      <td>230.1</td>\n",
       "      <td>37.8</td>\n",
       "      <td>69.2</td>\n",
       "      <td>22.1</td>\n",
       "    </tr>\n",
       "    <tr>\n",
       "      <th>1</th>\n",
       "      <td>2</td>\n",
       "      <td>44.5</td>\n",
       "      <td>39.3</td>\n",
       "      <td>45.1</td>\n",
       "      <td>10.4</td>\n",
       "    </tr>\n",
       "    <tr>\n",
       "      <th>2</th>\n",
       "      <td>3</td>\n",
       "      <td>17.2</td>\n",
       "      <td>45.9</td>\n",
       "      <td>69.3</td>\n",
       "      <td>9.3</td>\n",
       "    </tr>\n",
       "    <tr>\n",
       "      <th>3</th>\n",
       "      <td>4</td>\n",
       "      <td>151.5</td>\n",
       "      <td>41.3</td>\n",
       "      <td>58.5</td>\n",
       "      <td>18.5</td>\n",
       "    </tr>\n",
       "    <tr>\n",
       "      <th>4</th>\n",
       "      <td>5</td>\n",
       "      <td>180.8</td>\n",
       "      <td>10.8</td>\n",
       "      <td>58.4</td>\n",
       "      <td>12.9</td>\n",
       "    </tr>\n",
       "    <tr>\n",
       "      <th>...</th>\n",
       "      <td>...</td>\n",
       "      <td>...</td>\n",
       "      <td>...</td>\n",
       "      <td>...</td>\n",
       "      <td>...</td>\n",
       "    </tr>\n",
       "    <tr>\n",
       "      <th>195</th>\n",
       "      <td>196</td>\n",
       "      <td>38.2</td>\n",
       "      <td>3.7</td>\n",
       "      <td>13.8</td>\n",
       "      <td>7.6</td>\n",
       "    </tr>\n",
       "    <tr>\n",
       "      <th>196</th>\n",
       "      <td>197</td>\n",
       "      <td>94.2</td>\n",
       "      <td>4.9</td>\n",
       "      <td>8.1</td>\n",
       "      <td>9.7</td>\n",
       "    </tr>\n",
       "    <tr>\n",
       "      <th>197</th>\n",
       "      <td>198</td>\n",
       "      <td>177.0</td>\n",
       "      <td>9.3</td>\n",
       "      <td>6.4</td>\n",
       "      <td>12.8</td>\n",
       "    </tr>\n",
       "    <tr>\n",
       "      <th>198</th>\n",
       "      <td>199</td>\n",
       "      <td>283.6</td>\n",
       "      <td>42.0</td>\n",
       "      <td>66.2</td>\n",
       "      <td>25.5</td>\n",
       "    </tr>\n",
       "    <tr>\n",
       "      <th>199</th>\n",
       "      <td>200</td>\n",
       "      <td>232.1</td>\n",
       "      <td>8.6</td>\n",
       "      <td>8.7</td>\n",
       "      <td>13.4</td>\n",
       "    </tr>\n",
       "  </tbody>\n",
       "</table>\n",
       "<p>200 rows × 5 columns</p>\n",
       "</div>"
      ],
      "text/plain": [
       "     Unnamed: 0     TV  radio  newspaper  sales\n",
       "0             1  230.1   37.8       69.2   22.1\n",
       "1             2   44.5   39.3       45.1   10.4\n",
       "2             3   17.2   45.9       69.3    9.3\n",
       "3             4  151.5   41.3       58.5   18.5\n",
       "4             5  180.8   10.8       58.4   12.9\n",
       "..          ...    ...    ...        ...    ...\n",
       "195         196   38.2    3.7       13.8    7.6\n",
       "196         197   94.2    4.9        8.1    9.7\n",
       "197         198  177.0    9.3        6.4   12.8\n",
       "198         199  283.6   42.0       66.2   25.5\n",
       "199         200  232.1    8.6        8.7   13.4\n",
       "\n",
       "[200 rows x 5 columns]"
      ]
     },
     "execution_count": 4,
     "metadata": {},
     "output_type": "execute_result"
    }
   ],
   "source": [
    "df"
   ]
  },
  {
   "cell_type": "markdown",
   "id": "8ddcc250",
   "metadata": {},
   "source": [
    "From the dataset we can notice there are 5 columns which contains both features and one target variable. Here \"sales\" is the target variable which contains continuous data so it is a regression type problem. Here the dataset contains the data of advertising dollars spent on TV, radio and newspaper and the label contains the sales of a single product in a given market. So in order to improve the sales, we are advertising on the mentioned features.\n",
    "\n",
    "Also the column Unnamed is taken on the basis of index purpose, so it has no relation with our target variable. On this basis I am going to remove this column."
   ]
  },
  {
   "cell_type": "code",
   "execution_count": 8,
   "id": "5a3919d7",
   "metadata": {},
   "outputs": [],
   "source": [
    "# Dropping the irrelevant column Unnamed:0\n",
    "df.drop(\"Unnamed: 0\",axis=1, inplace=True)"
   ]
  },
  {
   "cell_type": "code",
   "execution_count": 9,
   "id": "db368cbe",
   "metadata": {},
   "outputs": [
    {
     "data": {
      "text/html": [
       "<div>\n",
       "<style scoped>\n",
       "    .dataframe tbody tr th:only-of-type {\n",
       "        vertical-align: middle;\n",
       "    }\n",
       "\n",
       "    .dataframe tbody tr th {\n",
       "        vertical-align: top;\n",
       "    }\n",
       "\n",
       "    .dataframe thead th {\n",
       "        text-align: right;\n",
       "    }\n",
       "</style>\n",
       "<table border=\"1\" class=\"dataframe\">\n",
       "  <thead>\n",
       "    <tr style=\"text-align: right;\">\n",
       "      <th></th>\n",
       "      <th>TV</th>\n",
       "      <th>radio</th>\n",
       "      <th>newspaper</th>\n",
       "      <th>sales</th>\n",
       "    </tr>\n",
       "  </thead>\n",
       "  <tbody>\n",
       "    <tr>\n",
       "      <th>0</th>\n",
       "      <td>230.1</td>\n",
       "      <td>37.8</td>\n",
       "      <td>69.2</td>\n",
       "      <td>22.1</td>\n",
       "    </tr>\n",
       "    <tr>\n",
       "      <th>1</th>\n",
       "      <td>44.5</td>\n",
       "      <td>39.3</td>\n",
       "      <td>45.1</td>\n",
       "      <td>10.4</td>\n",
       "    </tr>\n",
       "    <tr>\n",
       "      <th>2</th>\n",
       "      <td>17.2</td>\n",
       "      <td>45.9</td>\n",
       "      <td>69.3</td>\n",
       "      <td>9.3</td>\n",
       "    </tr>\n",
       "    <tr>\n",
       "      <th>3</th>\n",
       "      <td>151.5</td>\n",
       "      <td>41.3</td>\n",
       "      <td>58.5</td>\n",
       "      <td>18.5</td>\n",
       "    </tr>\n",
       "    <tr>\n",
       "      <th>4</th>\n",
       "      <td>180.8</td>\n",
       "      <td>10.8</td>\n",
       "      <td>58.4</td>\n",
       "      <td>12.9</td>\n",
       "    </tr>\n",
       "  </tbody>\n",
       "</table>\n",
       "</div>"
      ],
      "text/plain": [
       "      TV  radio  newspaper  sales\n",
       "0  230.1   37.8       69.2   22.1\n",
       "1   44.5   39.3       45.1   10.4\n",
       "2   17.2   45.9       69.3    9.3\n",
       "3  151.5   41.3       58.5   18.5\n",
       "4  180.8   10.8       58.4   12.9"
      ]
     },
     "execution_count": 9,
     "metadata": {},
     "output_type": "execute_result"
    }
   ],
   "source": [
    "df.head()"
   ]
  },
  {
   "cell_type": "markdown",
   "id": "e654e4e3",
   "metadata": {},
   "source": [
    "This is the dataframe after removing the column Unnamed:0 and showing the first five rows of the dataset\n",
    "\n"
   ]
  },
  {
   "cell_type": "markdown",
   "id": "49b8c97e",
   "metadata": {},
   "source": [
    "EXPLORATION OF THE DATASET (EDA)\n"
   ]
  },
  {
   "cell_type": "code",
   "execution_count": 10,
   "id": "49d5d825",
   "metadata": {},
   "outputs": [
    {
     "data": {
      "text/plain": [
       "(200, 4)"
      ]
     },
     "execution_count": 10,
     "metadata": {},
     "output_type": "execute_result"
    }
   ],
   "source": [
    "#checking the dimension of data\n",
    "df.shape"
   ]
  },
  {
   "cell_type": "code",
   "execution_count": 13,
   "id": "20ad6090",
   "metadata": {},
   "outputs": [
    {
     "data": {
      "text/plain": [
       "TV           float64\n",
       "radio        float64\n",
       "newspaper    float64\n",
       "sales        float64\n",
       "dtype: object"
      ]
     },
     "execution_count": 13,
     "metadata": {},
     "output_type": "execute_result"
    }
   ],
   "source": [
    "#checking the type of dataset\n",
    "df.dtypes"
   ]
  },
  {
   "cell_type": "code",
   "execution_count": 15,
   "id": "7caadc55",
   "metadata": {},
   "outputs": [
    {
     "name": "stdout",
     "output_type": "stream",
     "text": [
      "<class 'pandas.core.frame.DataFrame'>\n",
      "RangeIndex: 200 entries, 0 to 199\n",
      "Data columns (total 4 columns):\n",
      " #   Column     Non-Null Count  Dtype  \n",
      "---  ------     --------------  -----  \n",
      " 0   TV         200 non-null    float64\n",
      " 1   radio      200 non-null    float64\n",
      " 2   newspaper  200 non-null    float64\n",
      " 3   sales      200 non-null    float64\n",
      "dtypes: float64(4)\n",
      "memory usage: 6.4 KB\n"
     ]
    }
   ],
   "source": [
    "#to get good overview of the dataset\n",
    "df.info()"
   ]
  },
  {
   "cell_type": "markdown",
   "id": "e0899579",
   "metadata": {},
   "source": [
    "CHECKING FOR NULL VALUES IN DATA SET"
   ]
  },
  {
   "cell_type": "code",
   "execution_count": 18,
   "id": "48fded3e",
   "metadata": {},
   "outputs": [
    {
     "data": {
      "text/plain": [
       "TV           0\n",
       "radio        0\n",
       "newspaper    0\n",
       "sales        0\n",
       "dtype: int64"
      ]
     },
     "execution_count": 18,
     "metadata": {},
     "output_type": "execute_result"
    }
   ],
   "source": [
    "#checking null vlaues in the dataset\n",
    "df.isnull().sum()"
   ]
  },
  {
   "cell_type": "markdown",
   "id": "fac336ee",
   "metadata": {},
   "source": [
    "VISUALISING MISSING DATA"
   ]
  },
  {
   "cell_type": "code",
   "execution_count": 19,
   "id": "0630df8a",
   "metadata": {},
   "outputs": [
    {
     "data": {
      "text/plain": [
       "<AxesSubplot:>"
      ]
     },
     "execution_count": 19,
     "metadata": {},
     "output_type": "execute_result"
    },
    {
     "data": {
      "image/png": "[encoded data removed]",
      "text/plain": [
       "<Figure size 432x288 with 2 Axes>"
      ]
     },
     "metadata": {
      "needs_background": "light"
     },
     "output_type": "display_data"
    }
   ],
   "source": [
    "sns.heatmap(df.isnull(), cmap='spring')"
   ]
  },
  {
   "cell_type": "markdown",
   "id": "b59ce4d8",
   "metadata": {},
   "source": [
    "there is no nan value in dataset."
   ]
  },
  {
   "cell_type": "code",
   "execution_count": 20,
   "id": "bbfaccd9",
   "metadata": {},
   "outputs": [
    {
     "data": {
      "text/plain": [
       "array([22.1, 10.4,  9.3, 18.5, 12.9,  7.2, 11.8, 13.2,  4.8, 10.6,  8.6,\n",
       "       17.4,  9.2,  9.7, 19. , 22.4, 12.5, 24.4, 11.3, 14.6, 18. ,  5.6,\n",
       "       15.5, 12. , 15. , 15.9, 18.9, 10.5, 21.4, 11.9,  9.6,  9.5, 12.8,\n",
       "       25.4, 14.7, 10.1, 21.5, 16.6, 17.1, 20.7,  8.5, 14.9, 23.2, 14.8,\n",
       "       11.4, 10.7, 22.6, 21.2, 20.2, 23.7,  5.5, 23.8, 18.4,  8.1, 24.2,\n",
       "       15.7, 14. , 13.4, 22.3, 18.3, 12.4,  8.8, 11. , 17. ,  8.7,  6.9,\n",
       "       14.2,  5.3, 12.3, 13.6, 21.7, 15.2, 16. , 16.7, 11.2,  7.3, 19.4,\n",
       "       22.2, 11.5, 16.9, 11.7, 17.2, 19.2, 19.8, 21.8, 14.1, 12.6, 12.2,\n",
       "        9.4,  6.6,  7. , 11.6, 19.7, 24.7,  1.6, 12.7,  5.7, 19.6, 10.8,\n",
       "       20.8, 10.9, 20.1, 10.3, 16.1, 15.6,  3.2, 15.3, 14.4, 13.3,  8. ,\n",
       "        8.4, 14.5,  7.6, 27. , 26.2, 17.6, 17.3,  6.7,  9.9,  5.9, 25.5])"
      ]
     },
     "execution_count": 20,
     "metadata": {},
     "output_type": "execute_result"
    }
   ],
   "source": [
    "# Checking the uniqueness of target variable\n",
    "df['sales'].unique()"
   ]
  },
  {
   "cell_type": "markdown",
   "id": "c9d9bb5f",
   "metadata": {},
   "source": [
    "These are the unique values present in the target variable.\n",
    "\n"
   ]
  },
  {
   "cell_type": "code",
   "execution_count": 21,
   "id": "29e644f5",
   "metadata": {},
   "outputs": [
    {
     "data": {
      "text/plain": [
       "9.7     5\n",
       "11.7    4\n",
       "12.9    4\n",
       "15.9    4\n",
       "20.7    3\n",
       "       ..\n",
       "17.0    1\n",
       "18.3    1\n",
       "22.3    1\n",
       "14.0    1\n",
       "25.5    1\n",
       "Name: sales, Length: 121, dtype: int64"
      ]
     },
     "execution_count": 21,
     "metadata": {},
     "output_type": "execute_result"
    }
   ],
   "source": [
    "# List of values in the target variable\n",
    "df[\"sales\"].value_counts()"
   ]
  },
  {
   "cell_type": "markdown",
   "id": "e378c04f",
   "metadata": {},
   "source": [
    "This gives the list of values in the target variable which has int64 data type.\n",
    "\n"
   ]
  },
  {
   "cell_type": "code",
   "execution_count": 22,
   "id": "a50c2fd9",
   "metadata": {},
   "outputs": [
    {
     "data": {
      "text/html": [
       "<div>\n",
       "<style scoped>\n",
       "    .dataframe tbody tr th:only-of-type {\n",
       "        vertical-align: middle;\n",
       "    }\n",
       "\n",
       "    .dataframe tbody tr th {\n",
       "        vertical-align: top;\n",
       "    }\n",
       "\n",
       "    .dataframe thead th {\n",
       "        text-align: right;\n",
       "    }\n",
       "</style>\n",
       "<table border=\"1\" class=\"dataframe\">\n",
       "  <thead>\n",
       "    <tr style=\"text-align: right;\">\n",
       "      <th></th>\n",
       "      <th>TV</th>\n",
       "      <th>radio</th>\n",
       "      <th>newspaper</th>\n",
       "      <th>sales</th>\n",
       "    </tr>\n",
       "  </thead>\n",
       "  <tbody>\n",
       "  </tbody>\n",
       "</table>\n",
       "</div>"
      ],
      "text/plain": [
       "Empty DataFrame\n",
       "Columns: [TV, radio, newspaper, sales]\n",
       "Index: []"
      ]
     },
     "execution_count": 22,
     "metadata": {},
     "output_type": "execute_result"
    }
   ],
   "source": [
    "# Checking whether the dataset contains any space\n",
    "df.loc[df['sales']==\" \"]"
   ]
  },
  {
   "cell_type": "markdown",
   "id": "3e82471f",
   "metadata": {},
   "source": [
    "So from the above observation we can say there are no spaces present in the dataset.\n",
    "\n"
   ]
  },
  {
   "cell_type": "markdown",
   "id": "76e7da2e",
   "metadata": {},
   "source": [
    "DESCRIPTION OF THE DATASET"
   ]
  },
  {
   "cell_type": "code",
   "execution_count": 24,
   "id": "21f34e27",
   "metadata": {},
   "outputs": [
    {
     "data": {
      "text/html": [
       "<div>\n",
       "<style scoped>\n",
       "    .dataframe tbody tr th:only-of-type {\n",
       "        vertical-align: middle;\n",
       "    }\n",
       "\n",
       "    .dataframe tbody tr th {\n",
       "        vertical-align: top;\n",
       "    }\n",
       "\n",
       "    .dataframe thead th {\n",
       "        text-align: right;\n",
       "    }\n",
       "</style>\n",
       "<table border=\"1\" class=\"dataframe\">\n",
       "  <thead>\n",
       "    <tr style=\"text-align: right;\">\n",
       "      <th></th>\n",
       "      <th>TV</th>\n",
       "      <th>radio</th>\n",
       "      <th>newspaper</th>\n",
       "      <th>sales</th>\n",
       "    </tr>\n",
       "  </thead>\n",
       "  <tbody>\n",
       "    <tr>\n",
       "      <th>count</th>\n",
       "      <td>200.000000</td>\n",
       "      <td>200.000000</td>\n",
       "      <td>200.000000</td>\n",
       "      <td>200.000000</td>\n",
       "    </tr>\n",
       "    <tr>\n",
       "      <th>mean</th>\n",
       "      <td>147.042500</td>\n",
       "      <td>23.264000</td>\n",
       "      <td>30.554000</td>\n",
       "      <td>14.022500</td>\n",
       "    </tr>\n",
       "    <tr>\n",
       "      <th>std</th>\n",
       "      <td>85.854236</td>\n",
       "      <td>14.846809</td>\n",
       "      <td>21.778621</td>\n",
       "      <td>5.217457</td>\n",
       "    </tr>\n",
       "    <tr>\n",
       "      <th>min</th>\n",
       "      <td>0.700000</td>\n",
       "      <td>0.000000</td>\n",
       "      <td>0.300000</td>\n",
       "      <td>1.600000</td>\n",
       "    </tr>\n",
       "    <tr>\n",
       "      <th>25%</th>\n",
       "      <td>74.375000</td>\n",
       "      <td>9.975000</td>\n",
       "      <td>12.750000</td>\n",
       "      <td>10.375000</td>\n",
       "    </tr>\n",
       "    <tr>\n",
       "      <th>50%</th>\n",
       "      <td>149.750000</td>\n",
       "      <td>22.900000</td>\n",
       "      <td>25.750000</td>\n",
       "      <td>12.900000</td>\n",
       "    </tr>\n",
       "    <tr>\n",
       "      <th>75%</th>\n",
       "      <td>218.825000</td>\n",
       "      <td>36.525000</td>\n",
       "      <td>45.100000</td>\n",
       "      <td>17.400000</td>\n",
       "    </tr>\n",
       "    <tr>\n",
       "      <th>max</th>\n",
       "      <td>296.400000</td>\n",
       "      <td>49.600000</td>\n",
       "      <td>114.000000</td>\n",
       "      <td>27.000000</td>\n",
       "    </tr>\n",
       "  </tbody>\n",
       "</table>\n",
       "</div>"
      ],
      "text/plain": [
       "               TV       radio   newspaper       sales\n",
       "count  200.000000  200.000000  200.000000  200.000000\n",
       "mean   147.042500   23.264000   30.554000   14.022500\n",
       "std     85.854236   14.846809   21.778621    5.217457\n",
       "min      0.700000    0.000000    0.300000    1.600000\n",
       "25%     74.375000    9.975000   12.750000   10.375000\n",
       "50%    149.750000   22.900000   25.750000   12.900000\n",
       "75%    218.825000   36.525000   45.100000   17.400000\n",
       "max    296.400000   49.600000  114.000000   27.000000"
      ]
     },
     "execution_count": 24,
     "metadata": {},
     "output_type": "execute_result"
    }
   ],
   "source": [
    "#statistical summary of dataset\n",
    "df.describe() "
   ]
  },
  {
   "cell_type": "markdown",
   "id": "c1f424f6",
   "metadata": {},
   "source": [
    "his gives the statistical information of the dataset. The summary of this dataset looks perfect since there is no negative/ invalid values present.\n",
    "\n",
    "In the above description,\n",
    "\n",
    "The mean value of TV is 147 which means this platform has good sales. But we can't conclude on this basis. We can also notice the counts of all the columns are 200 which means no null values. In summarizing the data we can observe that the dataset seems to be having more outliers as well as skewness in the data."
   ]
  },
  {
   "cell_type": "markdown",
   "id": "a570210b",
   "metadata": {},
   "source": [
    "EXPLORATION OF DATA AND VISUALIZATION"
   ]
  },
  {
   "cell_type": "code",
   "execution_count": 26,
   "id": "e2b055c1",
   "metadata": {},
   "outputs": [
    {
     "data": {
      "text/plain": [
       "TV           190\n",
       "radio        167\n",
       "newspaper    172\n",
       "sales        121\n",
       "dtype: int64"
      ]
     },
     "execution_count": 26,
     "metadata": {},
     "output_type": "execute_result"
    }
   ],
   "source": [
    "## Checking number of unique values in all the columns and plotting pie-chart\n",
    "\n",
    "df.nunique()"
   ]
  },
  {
   "cell_type": "code",
   "execution_count": 27,
   "id": "730c623c",
   "metadata": {},
   "outputs": [
    {
     "data": {
      "image/png": "[encoded data removed]",
      "text/plain": [
       "<Figure size 1008x360 with 1 Axes>"
      ]
     },
     "metadata": {},
     "output_type": "display_data"
    }
   ],
   "source": [
    "labels = 'TV','radio','newspapaer'\n",
    "sizes = [190,167,172]\n",
    "colors = ['gold','green','lightcoral']\n",
    "\n",
    "\n",
    "#plot\n",
    "plt.figure(figsize=(14,5))\n",
    "plt.pie(sizes,labels=labels,colors = colors,\n",
    "        autopct='%1.1f%%',shadow=True)\n",
    "plt.axis('equal')\n",
    "plt.show()"
   ]
  },
  {
   "cell_type": "markdown",
   "id": "6352dd06",
   "metadata": {},
   "source": [
    "This pie chart visualizes the volume of the feature columns\n",
    "\n"
   ]
  },
  {
   "cell_type": "code",
   "execution_count": 28,
   "id": "c42c468e",
   "metadata": {},
   "outputs": [
    {
     "data": {
      "text/plain": [
       "<AxesSubplot:xlabel='TV', ylabel='Density'>"
      ]
     },
     "execution_count": 28,
     "metadata": {},
     "output_type": "execute_result"
    },
    {
     "data": {
      "image/png": "[encoded data removed]",
      "text/plain": [
       "<Figure size 432x288 with 1 Axes>"
      ]
     },
     "metadata": {
      "needs_background": "light"
     },
     "output_type": "display_data"
    }
   ],
   "source": [
    "# Checking how the data is distributed in the column TV\n",
    "sns.distplot(df[\"TV\"], color='navy')"
   ]
  },
  {
   "cell_type": "markdown",
   "id": "83faac74",
   "metadata": {},
   "source": [
    "The data is almost normally distributed and has skewness too.\n",
    "\n"
   ]
  },
  {
   "cell_type": "code",
   "execution_count": 29,
   "id": "51295e8c",
   "metadata": {},
   "outputs": [
    {
     "data": {
      "text/plain": [
       "<AxesSubplot:xlabel='radio', ylabel='Density'>"
      ]
     },
     "execution_count": 29,
     "metadata": {},
     "output_type": "execute_result"
    },
    {
     "data": {
      "image/png": "[encoded data removed]",
      "text/plain": [
       "<Figure size 432x288 with 1 Axes>"
      ]
     },
     "metadata": {
      "needs_background": "light"
     },
     "output_type": "display_data"
    }
   ],
   "source": [
    "# Checking how the data is distributed in the column radio\n",
    "sns.distplot(df[\"radio\"], color ='navy')"
   ]
  },
  {
   "cell_type": "markdown",
   "id": "a37b2b2e",
   "metadata": {},
   "source": [
    "The data is almost normally distributed.\n",
    "\n"
   ]
  },
  {
   "cell_type": "code",
   "execution_count": 30,
   "id": "27716bf8",
   "metadata": {},
   "outputs": [
    {
     "data": {
      "text/plain": [
       "<AxesSubplot:xlabel='newspaper', ylabel='Density'>"
      ]
     },
     "execution_count": 30,
     "metadata": {},
     "output_type": "execute_result"
    },
    {
     "data": {
      "image/png": "[encoded data removed]",
      "text/plain": [
       "<Figure size 432x288 with 1 Axes>"
      ]
     },
     "metadata": {
      "needs_background": "light"
     },
     "output_type": "display_data"
    }
   ],
   "source": [
    "# Checking how the data is distributed in the column newspaper\n",
    "sns.distplot(df[\"newspaper\"], color='blue')"
   ]
  },
  {
   "cell_type": "markdown",
   "id": "4ba166e7",
   "metadata": {},
   "source": [
    "Here the data in the newpaper feature contains left skewness.\n",
    "\n"
   ]
  },
  {
   "cell_type": "code",
   "execution_count": 31,
   "id": "672c2915",
   "metadata": {},
   "outputs": [
    {
     "data": {
      "text/plain": [
       "<AxesSubplot:xlabel='sales', ylabel='Density'>"
      ]
     },
     "execution_count": 31,
     "metadata": {},
     "output_type": "execute_result"
    },
    {
     "data": {
      "image/png": "[encoded data removed]",
      "text/plain": [
       "<Figure size 432x288 with 1 Axes>"
      ]
     },
     "metadata": {
      "needs_background": "light"
     },
     "output_type": "display_data"
    }
   ],
   "source": [
    "# Checking how the data is distributed in the target variable sales\n",
    "sns.distplot(df[\"sales\"],  color ='blue')"
   ]
  },
  {
   "cell_type": "markdown",
   "id": "309ae530",
   "metadata": {},
   "source": [
    "Here the data in the newpaper feature contains left skewness.\n",
    "\n",
    "The data is almost normally distributed.\n",
    "\n",
    "From the above plotting analysis we can say that the data in the columns are almost normally distributed and some columns contains skewness. So we will treat this skewness in the later part."
   ]
  },
  {
   "cell_type": "markdown",
   "id": "bec5c343",
   "metadata": {},
   "source": [
    "Bivariate Analysis\n"
   ]
  },
  {
   "cell_type": "code",
   "execution_count": 32,
   "id": "94ef0e2d",
   "metadata": {},
   "outputs": [
    {
     "data": {
      "text/plain": [
       "<AxesSubplot:title={'center':'Comparision between TV and radio'}, xlabel='TV', ylabel='radio'>"
      ]
     },
     "execution_count": 32,
     "metadata": {},
     "output_type": "execute_result"
    },
    {
     "data": {
      "image/png": "[encoded data removed]",
      "text/plain": [
       "<Figure size 720x432 with 1 Axes>"
      ]
     },
     "metadata": {
      "needs_background": "light"
     },
     "output_type": "display_data"
    }
   ],
   "source": [
    "# Checking the relation between TV and radio on the basis of sales\n",
    "plt.figure(figsize=[10,6])\n",
    "plt.title('Comparision between TV and radio')\n",
    "sns.scatterplot(df['TV'],df['radio'],hue=df[\"sales\"])"
   ]
  },
  {
   "cell_type": "markdown",
   "id": "30616249",
   "metadata": {},
   "source": [
    "Here we can see the data is scattered so there is no linear relationship while comparing TV and radio. As we can see from the plot, if we spend 5 to 15 dollars(say) then we dont get any sales from both TV and radio .But if we spend more money than this then we can see the increment in the sales."
   ]
  },
  {
   "cell_type": "code",
   "execution_count": 34,
   "id": "b45149d3",
   "metadata": {},
   "outputs": [
    {
     "data": {
      "image/png": "[encoded data removed]",
      "text/plain": [
       "<Figure size 720x432 with 1 Axes>"
      ]
     },
     "metadata": {
      "needs_background": "light"
     },
     "output_type": "display_data"
    }
   ],
   "source": [
    "# Checking the relation between TV and newspaper on the basis of sales\n",
    "plt.figure(figsize=[10,6])\n",
    "plt.title('Comparision between TV and newspaper')\n",
    "sns.scatterplot(df['TV'],df['newspaper'],hue=df[\"sales\"]);"
   ]
  },
  {
   "cell_type": "markdown",
   "id": "23d3b5cb",
   "metadata": {},
   "source": [
    "Here we can see the data is scattered so there is no linear relationship while comparing TV and radio. As we can see from the plot, if we spend 5 to 15 dollars(say) then we dont get any sales from both TV and radio .But if we spend more money than this then we can see the increment in the sales."
   ]
  },
  {
   "cell_type": "code",
   "execution_count": 35,
   "id": "842a356b",
   "metadata": {},
   "outputs": [
    {
     "data": {
      "image/png": "[encoded data removed]",
      "text/plain": [
       "<Figure size 720x432 with 1 Axes>"
      ]
     },
     "metadata": {
      "needs_background": "light"
     },
     "output_type": "display_data"
    }
   ],
   "source": [
    "# Checking the relation between radio and newspaper on the basis of sales\n",
    "plt.figure(figsize=[10,6])\n",
    "plt.title('Comparision between radio and newspaper')\n",
    "sns.scatterplot(df['radio'],df['newspaper'],hue=df[\"sales\"]);"
   ]
  },
  {
   "cell_type": "markdown",
   "id": "73db9c2d",
   "metadata": {},
   "source": [
    "This is the comparision between the radio and newspaper on the basis of sales. There is no linear relationship between these features. Also we can witness some outliers present here.\n",
    "\n",
    "From the above plots we can notice, if we invest more money then we get more sales in all the platforms.\n",
    "\n",
    "Now let's see the relationship between the features and label."
   ]
  },
  {
   "cell_type": "code",
   "execution_count": 36,
   "id": "eccebe77",
   "metadata": {},
   "outputs": [
    {
     "data": {
      "text/plain": [
       "<AxesSubplot:xlabel='newspaper', ylabel='sales'>"
      ]
     },
     "execution_count": 36,
     "metadata": {},
     "output_type": "execute_result"
    },
    {
     "data": {
      "image/png": "[encoded data removed]",
      "text/plain": [
       "<Figure size 1152x576 with 3 Axes>"
      ]
     },
     "metadata": {
      "needs_background": "light"
     },
     "output_type": "display_data"
    }
   ],
   "source": [
    "# Visualizing the relationship between the features and the label \n",
    "fig, axs = plt.subplots(1,3)\n",
    "\n",
    "df.plot(x = \"TV\", y = \"sales\", kind = \"scatter\", ax=axs[0], figsize = (16,8))\n",
    "df.plot(x = \"radio\", y = \"sales\", kind = \"scatter\", ax=axs[1])\n",
    "df.plot(x = \"newspaper\", y = \"sales\", kind = \"scatter\", ax=axs[2])"
   ]
  },
  {
   "cell_type": "markdown",
   "id": "a68ceaa1",
   "metadata": {},
   "source": [
    "From the above graphs, it can be observed that there seems to be a linear relationship between the features TV, Radio with the sales.\n",
    "\n",
    "TV vs sales We can notice the linear relation between TV and sales. This means if we increase our investment in advertising the product on TV then there is an improvemnt in our sales and getting upto 80% profit too. Which means there is a positive linear relationship.\n",
    "\n",
    "Radio vs sales Here also we can observe the linear relationship between radio and sales. This means if we invest in advertising the product on radio then also we can get a profit in our sales but not more as TV. And we can say we are getting 45%(say) profit. But there is no loss in advertising on radio.\n",
    "\n",
    "Newspaper vs sales In case of newspaper there is no relationship with sales which means advertising the product on newspaper will not improve our sales also we get more loss by investing money on newspaper. So we can say may be newspaper is not the best platform to invest the money. But we cannot conclude on this basis, will move further and analyze it."
   ]
  },
  {
   "cell_type": "markdown",
   "id": "298aae9a",
   "metadata": {},
   "source": [
    "Multivariate Analysis\n"
   ]
  },
  {
   "cell_type": "code",
   "execution_count": 37,
   "id": "286a4115",
   "metadata": {},
   "outputs": [
    {
     "data": {
      "text/plain": [
       "<seaborn.axisgrid.PairGrid at 0x1c644c836a0>"
      ]
     },
     "execution_count": 37,
     "metadata": {},
     "output_type": "execute_result"
    },
    {
     "data": {
      "image/png": "[encoded data removed]",
      "text/plain": [
       "<Figure size 588.75x540 with 12 Axes>"
      ]
     },
     "metadata": {
      "needs_background": "light"
     },
     "output_type": "display_data"
    }
   ],
   "source": [
    "# Checking the pairwise relation in the dataset.\n",
    "sns.pairplot(df,hue=\"sales\")"
   ]
  },
  {
   "cell_type": "markdown",
   "id": "00539874",
   "metadata": {},
   "source": [
    "This pair plot gives the pairwise relation between the columns which is plotted on the basis of target variable 'sales'.\n",
    "\n",
    "From this pairplot we can observe that the correlation exists between two variables and on the diagonal we can see distribution plotting. As we can see the features TV and radio are highly correlated."
   ]
  },
  {
   "cell_type": "code",
   "execution_count": 38,
   "id": "2b53ffef",
   "metadata": {},
   "outputs": [
    {
     "data": {
      "text/plain": [
       "<AxesSubplot:xlabel='TV', ylabel='Count'>"
      ]
     },
     "execution_count": 38,
     "metadata": {},
     "output_type": "execute_result"
    },
    {
     "data": {
      "image/png": "[encoded data removed]",
      "text/plain": [
       "<Figure size 432x288 with 1 Axes>"
      ]
     },
     "metadata": {
      "needs_background": "light"
     },
     "output_type": "display_data"
    }
   ],
   "source": [
    "sns.histplot(df['TV'], color='navy')\n"
   ]
  },
  {
   "cell_type": "markdown",
   "id": "0a928232",
   "metadata": {},
   "source": [
    "The histogram represents the distribution of \"TV\" column is uniform.\n",
    "\n"
   ]
  },
  {
   "cell_type": "code",
   "execution_count": 39,
   "id": "dba306d0",
   "metadata": {},
   "outputs": [
    {
     "data": {
      "text/plain": [
       "<AxesSubplot:xlabel='radio', ylabel='Count'>"
      ]
     },
     "execution_count": 39,
     "metadata": {},
     "output_type": "execute_result"
    },
    {
     "data": {
      "image/png": "[encoded data removed]",
      "text/plain": [
       "<Figure size 432x288 with 1 Axes>"
      ]
     },
     "metadata": {
      "needs_background": "light"
     },
     "output_type": "display_data"
    }
   ],
   "source": [
    "sns.histplot(df[\"radio\"], color='orange')\n"
   ]
  },
  {
   "cell_type": "markdown",
   "id": "398d7dc8",
   "metadata": {},
   "source": [
    "The histogram represents the distribution of \"radio\" column is uniform.\n",
    "\n",
    "\n"
   ]
  },
  {
   "cell_type": "code",
   "execution_count": 40,
   "id": "57882341",
   "metadata": {},
   "outputs": [
    {
     "data": {
      "text/plain": [
       "<AxesSubplot:xlabel='newspaper', ylabel='Count'>"
      ]
     },
     "execution_count": 40,
     "metadata": {},
     "output_type": "execute_result"
    },
    {
     "data": {
      "image/png": "[encoded data removed]",
      "text/plain": [
       "<Figure size 432x288 with 1 Axes>"
      ]
     },
     "metadata": {
      "needs_background": "light"
     },
     "output_type": "display_data"
    }
   ],
   "source": [
    "sns.histplot(df[\"newspaper\"], color ='green')\n"
   ]
  },
  {
   "cell_type": "markdown",
   "id": "7b97d6b4",
   "metadata": {},
   "source": [
    "The histogram represents the distribution of \"newspaper\" is ununiform, it is skewed positively.\n",
    "\n"
   ]
  },
  {
   "cell_type": "markdown",
   "id": "86e58051",
   "metadata": {},
   "source": [
    "Correlation Analysis\n"
   ]
  },
  {
   "cell_type": "code",
   "execution_count": 41,
   "id": "f965a0bc",
   "metadata": {},
   "outputs": [
    {
     "data": {
      "text/html": [
       "<div>\n",
       "<style scoped>\n",
       "    .dataframe tbody tr th:only-of-type {\n",
       "        vertical-align: middle;\n",
       "    }\n",
       "\n",
       "    .dataframe tbody tr th {\n",
       "        vertical-align: top;\n",
       "    }\n",
       "\n",
       "    .dataframe thead th {\n",
       "        text-align: right;\n",
       "    }\n",
       "</style>\n",
       "<table border=\"1\" class=\"dataframe\">\n",
       "  <thead>\n",
       "    <tr style=\"text-align: right;\">\n",
       "      <th></th>\n",
       "      <th>TV</th>\n",
       "      <th>radio</th>\n",
       "      <th>newspaper</th>\n",
       "      <th>sales</th>\n",
       "    </tr>\n",
       "  </thead>\n",
       "  <tbody>\n",
       "    <tr>\n",
       "      <th>TV</th>\n",
       "      <td>1.000000</td>\n",
       "      <td>0.054809</td>\n",
       "      <td>0.056648</td>\n",
       "      <td>0.782224</td>\n",
       "    </tr>\n",
       "    <tr>\n",
       "      <th>radio</th>\n",
       "      <td>0.054809</td>\n",
       "      <td>1.000000</td>\n",
       "      <td>0.354104</td>\n",
       "      <td>0.576223</td>\n",
       "    </tr>\n",
       "    <tr>\n",
       "      <th>newspaper</th>\n",
       "      <td>0.056648</td>\n",
       "      <td>0.354104</td>\n",
       "      <td>1.000000</td>\n",
       "      <td>0.228299</td>\n",
       "    </tr>\n",
       "    <tr>\n",
       "      <th>sales</th>\n",
       "      <td>0.782224</td>\n",
       "      <td>0.576223</td>\n",
       "      <td>0.228299</td>\n",
       "      <td>1.000000</td>\n",
       "    </tr>\n",
       "  </tbody>\n",
       "</table>\n",
       "</div>"
      ],
      "text/plain": [
       "                 TV     radio  newspaper     sales\n",
       "TV         1.000000  0.054809   0.056648  0.782224\n",
       "radio      0.054809  1.000000   0.354104  0.576223\n",
       "newspaper  0.056648  0.354104   1.000000  0.228299\n",
       "sales      0.782224  0.576223   0.228299  1.000000"
      ]
     },
     "execution_count": 41,
     "metadata": {},
     "output_type": "execute_result"
    }
   ],
   "source": [
    "cor = df.corr()\n",
    "cor"
   ]
  },
  {
   "cell_type": "markdown",
   "id": "3a7c1b8d",
   "metadata": {},
   "source": [
    "This gives the correlation between the denpendent and independent variables. We can visualize this by plotting heat map\n",
    "\n"
   ]
  },
  {
   "cell_type": "markdown",
   "id": "c76ed484",
   "metadata": {},
   "source": [
    "Correlation using the heatmap\n"
   ]
  },
  {
   "cell_type": "code",
   "execution_count": 42,
   "id": "e28bbb8e",
   "metadata": {},
   "outputs": [
    {
     "data": {
      "image/png": "[encoded data removed]",
      "text/plain": [
       "<Figure size 720x504 with 2 Axes>"
      ]
     },
     "metadata": {
      "needs_background": "light"
     },
     "output_type": "display_data"
    }
   ],
   "source": [
    "# Visualizing the correlation matrix by plotting heat map.\n",
    "plt.figure(figsize=(10,7))\n",
    "sns.heatmap(df.corr(),linewidths=.1,cmap=\"seismic_r\",annot = True)\n",
    "plt.yticks(rotation=0);"
   ]
  },
  {
   "cell_type": "markdown",
   "id": "308c3308",
   "metadata": {},
   "source": [
    "The heat map contains only positive correlation.\n",
    "\n",
    "We can observe the target variable sales are highly correlated with TV. sales are moderately correlated with radio. sales are less correlated with newspaper. There is a less correlation between TV and newspaper also TV and radio. We can also see there is no high correlation between feature to feature which means there is no multicollinearity problem."
   ]
  },
  {
   "cell_type": "code",
   "execution_count": 43,
   "id": "4a185603",
   "metadata": {},
   "outputs": [
    {
     "data": {
      "text/plain": [
       "sales        1.000000\n",
       "TV           0.782224\n",
       "radio        0.576223\n",
       "newspaper    0.228299\n",
       "Name: sales, dtype: float64"
      ]
     },
     "execution_count": 43,
     "metadata": {},
     "output_type": "execute_result"
    }
   ],
   "source": [
    "cor['sales'].sort_values(ascending=False)\n"
   ]
  },
  {
   "cell_type": "markdown",
   "id": "05b3d825",
   "metadata": {},
   "source": [
    "Visualizing the correlation between label and features using bar plot\n"
   ]
  },
  {
   "cell_type": "code",
   "execution_count": 44,
   "id": "b683c16e",
   "metadata": {},
   "outputs": [
    {
     "data": {
      "image/png": "[encoded data removed]",
      "text/plain": [
       "<Figure size 864x504 with 1 Axes>"
      ]
     },
     "metadata": {
      "needs_background": "light"
     },
     "output_type": "display_data"
    }
   ],
   "source": [
    "plt.figure(figsize=(12,7))\n",
    "df.corr()['sales'].sort_values(ascending=False).drop(['sales']).plot(kind='bar',color='c')\n",
    "plt.xlabel('Feature',fontsize=14)\n",
    "plt.ylabel('column with target names',fontsize=14)\n",
    "plt.title('correlation',fontsize=18)\n",
    "plt.show()"
   ]
  },
  {
   "cell_type": "markdown",
   "id": "0b4f58d8",
   "metadata": {},
   "source": [
    "Here we can easily observe the correlation as sales are highly correlated with TV, moderately correlated with radio and less correlated with newspaper.\n",
    "\n"
   ]
  },
  {
   "cell_type": "markdown",
   "id": "255a6e1f",
   "metadata": {},
   "source": [
    "Identifying the outliers\n"
   ]
  },
  {
   "cell_type": "code",
   "execution_count": 45,
   "id": "395cdea0",
   "metadata": {},
   "outputs": [
    {
     "data": {
      "text/plain": [
       "<AxesSubplot:>"
      ]
     },
     "execution_count": 45,
     "metadata": {},
     "output_type": "execute_result"
    },
    {
     "data": {
      "image/png": "[encoded data removed]",
      "text/plain": [
       "<Figure size 936x432 with 1 Axes>"
      ]
     },
     "metadata": {
      "needs_background": "light"
     },
     "output_type": "display_data"
    }
   ],
   "source": [
    "df.plot(kind=\"box\", figsize = (13,6), color=\"r\")\n"
   ]
  },
  {
   "cell_type": "markdown",
   "id": "4c7fa8cd",
   "metadata": {},
   "source": [
    "There are outliers present only in newpaper on the maximum side of the boxplot. Let's remove those outliers.\n",
    "\n"
   ]
  },
  {
   "cell_type": "markdown",
   "id": "216210d9",
   "metadata": {},
   "source": [
    "Removing outliers\n"
   ]
  },
  {
   "cell_type": "markdown",
   "id": "1c65ddbd",
   "metadata": {},
   "source": [
    "1. Zscore method\n"
   ]
  },
  {
   "cell_type": "code",
   "execution_count": 46,
   "id": "ce43afe4",
   "metadata": {},
   "outputs": [
    {
     "data": {
      "text/plain": [
       "Index(['TV', 'radio', 'newspaper', 'sales'], dtype='object')"
      ]
     },
     "execution_count": 46,
     "metadata": {},
     "output_type": "execute_result"
    }
   ],
   "source": [
    "df.columns\n"
   ]
  },
  {
   "cell_type": "code",
   "execution_count": 47,
   "id": "ee970c6a",
   "metadata": {},
   "outputs": [],
   "source": [
    "variables = df[[\"newspaper\"]]\n"
   ]
  },
  {
   "cell_type": "code",
   "execution_count": 48,
   "id": "eb757db0",
   "metadata": {},
   "outputs": [
    {
     "data": {
      "text/html": [
       "<div>\n",
       "<style scoped>\n",
       "    .dataframe tbody tr th:only-of-type {\n",
       "        vertical-align: middle;\n",
       "    }\n",
       "\n",
       "    .dataframe tbody tr th {\n",
       "        vertical-align: top;\n",
       "    }\n",
       "\n",
       "    .dataframe thead th {\n",
       "        text-align: right;\n",
       "    }\n",
       "</style>\n",
       "<table border=\"1\" class=\"dataframe\">\n",
       "  <thead>\n",
       "    <tr style=\"text-align: right;\">\n",
       "      <th></th>\n",
       "      <th>TV</th>\n",
       "      <th>radio</th>\n",
       "      <th>newspaper</th>\n",
       "      <th>sales</th>\n",
       "    </tr>\n",
       "  </thead>\n",
       "  <tbody>\n",
       "    <tr>\n",
       "      <th>0</th>\n",
       "      <td>230.1</td>\n",
       "      <td>37.8</td>\n",
       "      <td>69.2</td>\n",
       "      <td>22.1</td>\n",
       "    </tr>\n",
       "    <tr>\n",
       "      <th>1</th>\n",
       "      <td>44.5</td>\n",
       "      <td>39.3</td>\n",
       "      <td>45.1</td>\n",
       "      <td>10.4</td>\n",
       "    </tr>\n",
       "    <tr>\n",
       "      <th>2</th>\n",
       "      <td>17.2</td>\n",
       "      <td>45.9</td>\n",
       "      <td>69.3</td>\n",
       "      <td>9.3</td>\n",
       "    </tr>\n",
       "    <tr>\n",
       "      <th>3</th>\n",
       "      <td>151.5</td>\n",
       "      <td>41.3</td>\n",
       "      <td>58.5</td>\n",
       "      <td>18.5</td>\n",
       "    </tr>\n",
       "    <tr>\n",
       "      <th>4</th>\n",
       "      <td>180.8</td>\n",
       "      <td>10.8</td>\n",
       "      <td>58.4</td>\n",
       "      <td>12.9</td>\n",
       "    </tr>\n",
       "    <tr>\n",
       "      <th>...</th>\n",
       "      <td>...</td>\n",
       "      <td>...</td>\n",
       "      <td>...</td>\n",
       "      <td>...</td>\n",
       "    </tr>\n",
       "    <tr>\n",
       "      <th>195</th>\n",
       "      <td>38.2</td>\n",
       "      <td>3.7</td>\n",
       "      <td>13.8</td>\n",
       "      <td>7.6</td>\n",
       "    </tr>\n",
       "    <tr>\n",
       "      <th>196</th>\n",
       "      <td>94.2</td>\n",
       "      <td>4.9</td>\n",
       "      <td>8.1</td>\n",
       "      <td>9.7</td>\n",
       "    </tr>\n",
       "    <tr>\n",
       "      <th>197</th>\n",
       "      <td>177.0</td>\n",
       "      <td>9.3</td>\n",
       "      <td>6.4</td>\n",
       "      <td>12.8</td>\n",
       "    </tr>\n",
       "    <tr>\n",
       "      <th>198</th>\n",
       "      <td>283.6</td>\n",
       "      <td>42.0</td>\n",
       "      <td>66.2</td>\n",
       "      <td>25.5</td>\n",
       "    </tr>\n",
       "    <tr>\n",
       "      <th>199</th>\n",
       "      <td>232.1</td>\n",
       "      <td>8.6</td>\n",
       "      <td>8.7</td>\n",
       "      <td>13.4</td>\n",
       "    </tr>\n",
       "  </tbody>\n",
       "</table>\n",
       "<p>198 rows × 4 columns</p>\n",
       "</div>"
      ],
      "text/plain": [
       "        TV  radio  newspaper  sales\n",
       "0    230.1   37.8       69.2   22.1\n",
       "1     44.5   39.3       45.1   10.4\n",
       "2     17.2   45.9       69.3    9.3\n",
       "3    151.5   41.3       58.5   18.5\n",
       "4    180.8   10.8       58.4   12.9\n",
       "..     ...    ...        ...    ...\n",
       "195   38.2    3.7       13.8    7.6\n",
       "196   94.2    4.9        8.1    9.7\n",
       "197  177.0    9.3        6.4   12.8\n",
       "198  283.6   42.0       66.2   25.5\n",
       "199  232.1    8.6        8.7   13.4\n",
       "\n",
       "[198 rows x 4 columns]"
      ]
     },
     "execution_count": 48,
     "metadata": {},
     "output_type": "execute_result"
    }
   ],
   "source": [
    "# Using zscore to remove outliers in the feature newpaper\n",
    "from scipy.stats import zscore\n",
    "\n",
    "z=np.abs(zscore(variables))\n",
    "\n",
    "# Creating new dataframe\n",
    "new_df=df[(z<3).all(axis=1)]\n",
    "new_df\n"
   ]
  },
  {
   "cell_type": "markdown",
   "id": "8515f743",
   "metadata": {},
   "source": [
    "This is the new dataframe after removing the outliers.\n",
    "\n"
   ]
  },
  {
   "cell_type": "code",
   "execution_count": 49,
   "id": "ef800d32",
   "metadata": {},
   "outputs": [
    {
     "data": {
      "text/plain": [
       "(200, 4)"
      ]
     },
     "execution_count": 49,
     "metadata": {},
     "output_type": "execute_result"
    }
   ],
   "source": [
    "df.shape\n"
   ]
  },
  {
   "cell_type": "markdown",
   "id": "34ee3556",
   "metadata": {},
   "source": [
    "The original dataset contains 200 rows and 4 columns.\n",
    "\n"
   ]
  },
  {
   "cell_type": "code",
   "execution_count": 50,
   "id": "a31bf4a9",
   "metadata": {},
   "outputs": [
    {
     "data": {
      "text/plain": [
       "(198, 4)"
      ]
     },
     "execution_count": 50,
     "metadata": {},
     "output_type": "execute_result"
    }
   ],
   "source": [
    "new_df.shape\n"
   ]
  },
  {
   "cell_type": "markdown",
   "id": "691973de",
   "metadata": {},
   "source": [
    "The new dataframe contains 198 rows and 4 columns.\n",
    "\n"
   ]
  },
  {
   "cell_type": "code",
   "execution_count": 51,
   "id": "5dcb476e",
   "metadata": {},
   "outputs": [
    {
     "data": {
      "text/plain": [
       "1.0"
      ]
     },
     "execution_count": 51,
     "metadata": {},
     "output_type": "execute_result"
    }
   ],
   "source": [
    "# Let's check the the data loss\n",
    "data_loss = (200-198)/200*100\n",
    "data_loss"
   ]
  },
  {
   "cell_type": "markdown",
   "id": "dbc407a2",
   "metadata": {},
   "source": [
    "There is only 1% data loss. Here I am not losing more data so I am removing the outliers. Now let's checkthe dataloss using IQR method.\n",
    "\n"
   ]
  },
  {
   "cell_type": "markdown",
   "id": "7e863459",
   "metadata": {},
   "source": [
    "2. IQR (Inter Quantile Range) method\n"
   ]
  },
  {
   "cell_type": "code",
   "execution_count": 52,
   "id": "af904d98",
   "metadata": {},
   "outputs": [],
   "source": [
    "# 1st quantile\n",
    "Q1=variables.quantile(0.25)\n",
    "\n",
    "# 3rd quantile\n",
    "Q3=variables.quantile(0.75)\n",
    "\n",
    "# IQR\n",
    "IQR=Q3 - Q1\n",
    "\n",
    "df1=df[~((df < (Q1 - 1.5 * IQR)) |(df > (Q3 + 1.5 * IQR))).any(axis=1)]"
   ]
  },
  {
   "cell_type": "markdown",
   "id": "788274f5",
   "metadata": {},
   "source": [
    "Now the outliers have been removed using IQR method\n",
    "\n"
   ]
  },
  {
   "cell_type": "code",
   "execution_count": 53,
   "id": "ae6406c6",
   "metadata": {},
   "outputs": [
    {
     "data": {
      "text/plain": [
       "(200, 4)"
      ]
     },
     "execution_count": 53,
     "metadata": {},
     "output_type": "execute_result"
    }
   ],
   "source": [
    "df.shape\n"
   ]
  },
  {
   "cell_type": "code",
   "execution_count": 54,
   "id": "0ac82533",
   "metadata": {},
   "outputs": [
    {
     "data": {
      "text/plain": [
       "(198, 4)"
      ]
     },
     "execution_count": 54,
     "metadata": {},
     "output_type": "execute_result"
    }
   ],
   "source": [
    "df1.shape\n"
   ]
  },
  {
   "cell_type": "markdown",
   "id": "3d177f8e",
   "metadata": {},
   "source": [
    "The new dataframe after using IQR method has 198 rows and 4 columns.\n",
    "\n"
   ]
  },
  {
   "cell_type": "code",
   "execution_count": 55,
   "id": "3ea05ad2",
   "metadata": {},
   "outputs": [
    {
     "data": {
      "text/plain": [
       "1.0"
      ]
     },
     "execution_count": 55,
     "metadata": {},
     "output_type": "execute_result"
    }
   ],
   "source": [
    "# Let's check the the data loss\n",
    "data_loss = (200-198)/200*100\n",
    "data_loss"
   ]
  },
  {
   "cell_type": "markdown",
   "id": "7713d168",
   "metadata": {},
   "source": [
    "So here also we are getting 1% data loss using IQR method. We can use any of these methods so, let me consider Zscore method.\n",
    "\n"
   ]
  },
  {
   "cell_type": "markdown",
   "id": "7bfe76e4",
   "metadata": {},
   "source": [
    "Checking for skewness\n"
   ]
  },
  {
   "cell_type": "code",
   "execution_count": 56,
   "id": "1140b029",
   "metadata": {},
   "outputs": [
    {
     "data": {
      "text/plain": [
       "TV          -0.082332\n",
       "radio        0.114842\n",
       "newspaper    0.650112\n",
       "sales        0.407130\n",
       "dtype: float64"
      ]
     },
     "execution_count": 56,
     "metadata": {},
     "output_type": "execute_result"
    }
   ],
   "source": [
    "# Checking the skewness\n",
    "new_df.skew()"
   ]
  },
  {
   "cell_type": "markdown",
   "id": "f056136e",
   "metadata": {},
   "source": [
    "Skewness threshold is taken as +/- 0.65.\n",
    "\n",
    "Only newspaper has skewness, let's remove the skewness."
   ]
  },
  {
   "cell_type": "markdown",
   "id": "821129be",
   "metadata": {},
   "source": [
    "Removing Skewness using power transform method\n"
   ]
  },
  {
   "cell_type": "code",
   "execution_count": 57,
   "id": "d1f81f76",
   "metadata": {},
   "outputs": [],
   "source": [
    "feature = [\"newspaper\"]\n"
   ]
  },
  {
   "cell_type": "code",
   "execution_count": 58,
   "id": "2ce842ae",
   "metadata": {},
   "outputs": [
    {
     "data": {
      "text/plain": [
       "\"\\nparameters:\\nmethod = 'box-cox' or 'yeo-johnson'\\n\""
      ]
     },
     "execution_count": 58,
     "metadata": {},
     "output_type": "execute_result"
    }
   ],
   "source": [
    "from sklearn.preprocessing import PowerTransformer\n",
    "scaler = PowerTransformer(method='yeo-johnson')\n",
    "'''\n",
    "parameters:\n",
    "method = 'box-cox' or 'yeo-johnson'\n",
    "'''"
   ]
  },
  {
   "cell_type": "code",
   "execution_count": 59,
   "id": "607ae78c",
   "metadata": {},
   "outputs": [
    {
     "data": {
      "text/html": [
       "<div>\n",
       "<style scoped>\n",
       "    .dataframe tbody tr th:only-of-type {\n",
       "        vertical-align: middle;\n",
       "    }\n",
       "\n",
       "    .dataframe tbody tr th {\n",
       "        vertical-align: top;\n",
       "    }\n",
       "\n",
       "    .dataframe thead th {\n",
       "        text-align: right;\n",
       "    }\n",
       "</style>\n",
       "<table border=\"1\" class=\"dataframe\">\n",
       "  <thead>\n",
       "    <tr style=\"text-align: right;\">\n",
       "      <th></th>\n",
       "      <th>newspaper</th>\n",
       "    </tr>\n",
       "  </thead>\n",
       "  <tbody>\n",
       "    <tr>\n",
       "      <th>0</th>\n",
       "      <td>1.604196</td>\n",
       "    </tr>\n",
       "    <tr>\n",
       "      <th>1</th>\n",
       "      <td>0.831044</td>\n",
       "    </tr>\n",
       "    <tr>\n",
       "      <th>2</th>\n",
       "      <td>1.607052</td>\n",
       "    </tr>\n",
       "    <tr>\n",
       "      <th>3</th>\n",
       "      <td>1.283768</td>\n",
       "    </tr>\n",
       "    <tr>\n",
       "      <th>4</th>\n",
       "      <td>1.280622</td>\n",
       "    </tr>\n",
       "    <tr>\n",
       "      <th>...</th>\n",
       "      <td>...</td>\n",
       "    </tr>\n",
       "    <tr>\n",
       "      <th>195</th>\n",
       "      <td>-0.687435</td>\n",
       "    </tr>\n",
       "    <tr>\n",
       "      <th>196</th>\n",
       "      <td>-1.146090</td>\n",
       "    </tr>\n",
       "    <tr>\n",
       "      <th>197</th>\n",
       "      <td>-1.314437</td>\n",
       "    </tr>\n",
       "    <tr>\n",
       "      <th>198</th>\n",
       "      <td>1.517395</td>\n",
       "    </tr>\n",
       "    <tr>\n",
       "      <th>199</th>\n",
       "      <td>-1.091084</td>\n",
       "    </tr>\n",
       "  </tbody>\n",
       "</table>\n",
       "<p>198 rows × 1 columns</p>\n",
       "</div>"
      ],
      "text/plain": [
       "     newspaper\n",
       "0     1.604196\n",
       "1     0.831044\n",
       "2     1.607052\n",
       "3     1.283768\n",
       "4     1.280622\n",
       "..         ...\n",
       "195  -0.687435\n",
       "196  -1.146090\n",
       "197  -1.314437\n",
       "198   1.517395\n",
       "199  -1.091084\n",
       "\n",
       "[198 rows x 1 columns]"
      ]
     },
     "execution_count": 59,
     "metadata": {},
     "output_type": "execute_result"
    }
   ],
   "source": [
    "new_df[feature] = scaler.fit_transform(new_df[feature].values)\n",
    "new_df[feature]"
   ]
  },
  {
   "cell_type": "code",
   "execution_count": 60,
   "id": "f474f810",
   "metadata": {},
   "outputs": [
    {
     "data": {
      "text/plain": [
       "TV          -0.082332\n",
       "radio        0.114842\n",
       "newspaper   -0.101288\n",
       "sales        0.407130\n",
       "dtype: float64"
      ]
     },
     "execution_count": 60,
     "metadata": {},
     "output_type": "execute_result"
    }
   ],
   "source": [
    "# Now let's check the skewness after applying yeo-johnson method.\n",
    "new_df.skew()"
   ]
  },
  {
   "cell_type": "markdown",
   "id": "8ceea5aa",
   "metadata": {},
   "source": [
    "We can see the skewness has been removed. Now let's visualize it by using distplot.\n",
    "\n"
   ]
  },
  {
   "cell_type": "markdown",
   "id": "2c1e15b0",
   "metadata": {},
   "source": [
    "Plotting the normal dist plot here\n"
   ]
  },
  {
   "cell_type": "code",
   "execution_count": 61,
   "id": "161a92c6",
   "metadata": {},
   "outputs": [
    {
     "data": {
      "text/plain": [
       "<AxesSubplot:xlabel='newspaper', ylabel='Density'>"
      ]
     },
     "execution_count": 61,
     "metadata": {},
     "output_type": "execute_result"
    },
    {
     "data": {
      "image/png": "[encoded data removed]",
      "text/plain": [
       "<Figure size 432x288 with 1 Axes>"
      ]
     },
     "metadata": {
      "needs_background": "light"
     },
     "output_type": "display_data"
    }
   ],
   "source": [
    "# After removing let's check how the data has been distributed in each column.\n",
    "\n",
    "sns.distplot(new_df[\"newspaper\"],  color ='g')"
   ]
  },
  {
   "cell_type": "markdown",
   "id": "afd98885",
   "metadata": {},
   "source": [
    "Now the feature newpaper looks normally distributed and has no skewness.\n",
    "\n"
   ]
  },
  {
   "cell_type": "code",
   "execution_count": 62,
   "id": "6e5c4323",
   "metadata": {},
   "outputs": [
    {
     "data": {
      "text/html": [
       "<div>\n",
       "<style scoped>\n",
       "    .dataframe tbody tr th:only-of-type {\n",
       "        vertical-align: middle;\n",
       "    }\n",
       "\n",
       "    .dataframe tbody tr th {\n",
       "        vertical-align: top;\n",
       "    }\n",
       "\n",
       "    .dataframe thead th {\n",
       "        text-align: right;\n",
       "    }\n",
       "</style>\n",
       "<table border=\"1\" class=\"dataframe\">\n",
       "  <thead>\n",
       "    <tr style=\"text-align: right;\">\n",
       "      <th></th>\n",
       "      <th>TV</th>\n",
       "      <th>radio</th>\n",
       "      <th>newspaper</th>\n",
       "      <th>sales</th>\n",
       "    </tr>\n",
       "  </thead>\n",
       "  <tbody>\n",
       "    <tr>\n",
       "      <th>0</th>\n",
       "      <td>230.1</td>\n",
       "      <td>37.8</td>\n",
       "      <td>1.604196</td>\n",
       "      <td>22.1</td>\n",
       "    </tr>\n",
       "    <tr>\n",
       "      <th>1</th>\n",
       "      <td>44.5</td>\n",
       "      <td>39.3</td>\n",
       "      <td>0.831044</td>\n",
       "      <td>10.4</td>\n",
       "    </tr>\n",
       "    <tr>\n",
       "      <th>2</th>\n",
       "      <td>17.2</td>\n",
       "      <td>45.9</td>\n",
       "      <td>1.607052</td>\n",
       "      <td>9.3</td>\n",
       "    </tr>\n",
       "    <tr>\n",
       "      <th>3</th>\n",
       "      <td>151.5</td>\n",
       "      <td>41.3</td>\n",
       "      <td>1.283768</td>\n",
       "      <td>18.5</td>\n",
       "    </tr>\n",
       "    <tr>\n",
       "      <th>4</th>\n",
       "      <td>180.8</td>\n",
       "      <td>10.8</td>\n",
       "      <td>1.280622</td>\n",
       "      <td>12.9</td>\n",
       "    </tr>\n",
       "    <tr>\n",
       "      <th>...</th>\n",
       "      <td>...</td>\n",
       "      <td>...</td>\n",
       "      <td>...</td>\n",
       "      <td>...</td>\n",
       "    </tr>\n",
       "    <tr>\n",
       "      <th>195</th>\n",
       "      <td>38.2</td>\n",
       "      <td>3.7</td>\n",
       "      <td>-0.687435</td>\n",
       "      <td>7.6</td>\n",
       "    </tr>\n",
       "    <tr>\n",
       "      <th>196</th>\n",
       "      <td>94.2</td>\n",
       "      <td>4.9</td>\n",
       "      <td>-1.146090</td>\n",
       "      <td>9.7</td>\n",
       "    </tr>\n",
       "    <tr>\n",
       "      <th>197</th>\n",
       "      <td>177.0</td>\n",
       "      <td>9.3</td>\n",
       "      <td>-1.314437</td>\n",
       "      <td>12.8</td>\n",
       "    </tr>\n",
       "    <tr>\n",
       "      <th>198</th>\n",
       "      <td>283.6</td>\n",
       "      <td>42.0</td>\n",
       "      <td>1.517395</td>\n",
       "      <td>25.5</td>\n",
       "    </tr>\n",
       "    <tr>\n",
       "      <th>199</th>\n",
       "      <td>232.1</td>\n",
       "      <td>8.6</td>\n",
       "      <td>-1.091084</td>\n",
       "      <td>13.4</td>\n",
       "    </tr>\n",
       "  </tbody>\n",
       "</table>\n",
       "<p>198 rows × 4 columns</p>\n",
       "</div>"
      ],
      "text/plain": [
       "        TV  radio  newspaper  sales\n",
       "0    230.1   37.8   1.604196   22.1\n",
       "1     44.5   39.3   0.831044   10.4\n",
       "2     17.2   45.9   1.607052    9.3\n",
       "3    151.5   41.3   1.283768   18.5\n",
       "4    180.8   10.8   1.280622   12.9\n",
       "..     ...    ...        ...    ...\n",
       "195   38.2    3.7  -0.687435    7.6\n",
       "196   94.2    4.9  -1.146090    9.7\n",
       "197  177.0    9.3  -1.314437   12.8\n",
       "198  283.6   42.0   1.517395   25.5\n",
       "199  232.1    8.6  -1.091084   13.4\n",
       "\n",
       "[198 rows x 4 columns]"
      ]
     },
     "execution_count": 62,
     "metadata": {},
     "output_type": "execute_result"
    }
   ],
   "source": [
    "# cleaned dataset\n",
    "new_df"
   ]
  },
  {
   "cell_type": "markdown",
   "id": "2929ec27",
   "metadata": {},
   "source": [
    "This is our cleaned dataset.\n",
    "\n"
   ]
  },
  {
   "cell_type": "markdown",
   "id": "4d93c4a6",
   "metadata": {},
   "source": [
    "Data preprocessing\n"
   ]
  },
  {
   "cell_type": "markdown",
   "id": "75dae4e7",
   "metadata": {},
   "source": [
    "Separating the independent and target variables into x and y\n"
   ]
  },
  {
   "cell_type": "code",
   "execution_count": 63,
   "id": "fbdbe4ff",
   "metadata": {},
   "outputs": [],
   "source": [
    "x = new_df.drop(\"sales\", axis=1)\n",
    "y = new_df[\"sales\"]"
   ]
  },
  {
   "cell_type": "code",
   "execution_count": 64,
   "id": "73ff11eb",
   "metadata": {},
   "outputs": [
    {
     "data": {
      "text/html": [
       "<div>\n",
       "<style scoped>\n",
       "    .dataframe tbody tr th:only-of-type {\n",
       "        vertical-align: middle;\n",
       "    }\n",
       "\n",
       "    .dataframe tbody tr th {\n",
       "        vertical-align: top;\n",
       "    }\n",
       "\n",
       "    .dataframe thead th {\n",
       "        text-align: right;\n",
       "    }\n",
       "</style>\n",
       "<table border=\"1\" class=\"dataframe\">\n",
       "  <thead>\n",
       "    <tr style=\"text-align: right;\">\n",
       "      <th></th>\n",
       "      <th>TV</th>\n",
       "      <th>radio</th>\n",
       "      <th>newspaper</th>\n",
       "    </tr>\n",
       "  </thead>\n",
       "  <tbody>\n",
       "    <tr>\n",
       "      <th>0</th>\n",
       "      <td>230.1</td>\n",
       "      <td>37.8</td>\n",
       "      <td>1.604196</td>\n",
       "    </tr>\n",
       "    <tr>\n",
       "      <th>1</th>\n",
       "      <td>44.5</td>\n",
       "      <td>39.3</td>\n",
       "      <td>0.831044</td>\n",
       "    </tr>\n",
       "    <tr>\n",
       "      <th>2</th>\n",
       "      <td>17.2</td>\n",
       "      <td>45.9</td>\n",
       "      <td>1.607052</td>\n",
       "    </tr>\n",
       "    <tr>\n",
       "      <th>3</th>\n",
       "      <td>151.5</td>\n",
       "      <td>41.3</td>\n",
       "      <td>1.283768</td>\n",
       "    </tr>\n",
       "    <tr>\n",
       "      <th>4</th>\n",
       "      <td>180.8</td>\n",
       "      <td>10.8</td>\n",
       "      <td>1.280622</td>\n",
       "    </tr>\n",
       "    <tr>\n",
       "      <th>...</th>\n",
       "      <td>...</td>\n",
       "      <td>...</td>\n",
       "      <td>...</td>\n",
       "    </tr>\n",
       "    <tr>\n",
       "      <th>195</th>\n",
       "      <td>38.2</td>\n",
       "      <td>3.7</td>\n",
       "      <td>-0.687435</td>\n",
       "    </tr>\n",
       "    <tr>\n",
       "      <th>196</th>\n",
       "      <td>94.2</td>\n",
       "      <td>4.9</td>\n",
       "      <td>-1.146090</td>\n",
       "    </tr>\n",
       "    <tr>\n",
       "      <th>197</th>\n",
       "      <td>177.0</td>\n",
       "      <td>9.3</td>\n",
       "      <td>-1.314437</td>\n",
       "    </tr>\n",
       "    <tr>\n",
       "      <th>198</th>\n",
       "      <td>283.6</td>\n",
       "      <td>42.0</td>\n",
       "      <td>1.517395</td>\n",
       "    </tr>\n",
       "    <tr>\n",
       "      <th>199</th>\n",
       "      <td>232.1</td>\n",
       "      <td>8.6</td>\n",
       "      <td>-1.091084</td>\n",
       "    </tr>\n",
       "  </tbody>\n",
       "</table>\n",
       "<p>198 rows × 3 columns</p>\n",
       "</div>"
      ],
      "text/plain": [
       "        TV  radio  newspaper\n",
       "0    230.1   37.8   1.604196\n",
       "1     44.5   39.3   0.831044\n",
       "2     17.2   45.9   1.607052\n",
       "3    151.5   41.3   1.283768\n",
       "4    180.8   10.8   1.280622\n",
       "..     ...    ...        ...\n",
       "195   38.2    3.7  -0.687435\n",
       "196   94.2    4.9  -1.146090\n",
       "197  177.0    9.3  -1.314437\n",
       "198  283.6   42.0   1.517395\n",
       "199  232.1    8.6  -1.091084\n",
       "\n",
       "[198 rows x 3 columns]"
      ]
     },
     "execution_count": 64,
     "metadata": {},
     "output_type": "execute_result"
    }
   ],
   "source": [
    "# dataset containing only features\n",
    "x"
   ]
  },
  {
   "cell_type": "markdown",
   "id": "f19512a7",
   "metadata": {},
   "source": [
    "Scaling data with standard scaler\n"
   ]
  },
  {
   "cell_type": "code",
   "execution_count": 67,
   "id": "df7d58e8",
   "metadata": {},
   "outputs": [
    {
     "data": {
      "text/html": [
       "<div>\n",
       "<style scoped>\n",
       "    .dataframe tbody tr th:only-of-type {\n",
       "        vertical-align: middle;\n",
       "    }\n",
       "\n",
       "    .dataframe tbody tr th {\n",
       "        vertical-align: top;\n",
       "    }\n",
       "\n",
       "    .dataframe thead th {\n",
       "        text-align: right;\n",
       "    }\n",
       "</style>\n",
       "<table border=\"1\" class=\"dataframe\">\n",
       "  <thead>\n",
       "    <tr style=\"text-align: right;\">\n",
       "      <th></th>\n",
       "      <th>TV</th>\n",
       "      <th>radio</th>\n",
       "      <th>newspaper</th>\n",
       "    </tr>\n",
       "  </thead>\n",
       "  <tbody>\n",
       "    <tr>\n",
       "      <th>0</th>\n",
       "      <td>0.978697</td>\n",
       "      <td>0.989521</td>\n",
       "      <td>1.604196</td>\n",
       "    </tr>\n",
       "    <tr>\n",
       "      <th>1</th>\n",
       "      <td>-1.199012</td>\n",
       "      <td>1.090705</td>\n",
       "      <td>0.831044</td>\n",
       "    </tr>\n",
       "    <tr>\n",
       "      <th>2</th>\n",
       "      <td>-1.519332</td>\n",
       "      <td>1.535913</td>\n",
       "      <td>1.607052</td>\n",
       "    </tr>\n",
       "    <tr>\n",
       "      <th>3</th>\n",
       "      <td>0.056456</td>\n",
       "      <td>1.225616</td>\n",
       "      <td>1.283768</td>\n",
       "    </tr>\n",
       "    <tr>\n",
       "      <th>4</th>\n",
       "      <td>0.400243</td>\n",
       "      <td>-0.831784</td>\n",
       "      <td>1.280622</td>\n",
       "    </tr>\n",
       "    <tr>\n",
       "      <th>...</th>\n",
       "      <td>...</td>\n",
       "      <td>...</td>\n",
       "      <td>...</td>\n",
       "    </tr>\n",
       "    <tr>\n",
       "      <th>193</th>\n",
       "      <td>-1.272932</td>\n",
       "      <td>-1.310720</td>\n",
       "      <td>-0.687435</td>\n",
       "    </tr>\n",
       "    <tr>\n",
       "      <th>194</th>\n",
       "      <td>-0.615864</td>\n",
       "      <td>-1.229773</td>\n",
       "      <td>-1.146090</td>\n",
       "    </tr>\n",
       "    <tr>\n",
       "      <th>195</th>\n",
       "      <td>0.355657</td>\n",
       "      <td>-0.932968</td>\n",
       "      <td>-1.314437</td>\n",
       "    </tr>\n",
       "    <tr>\n",
       "      <th>196</th>\n",
       "      <td>1.606431</td>\n",
       "      <td>1.272836</td>\n",
       "      <td>1.517395</td>\n",
       "    </tr>\n",
       "    <tr>\n",
       "      <th>197</th>\n",
       "      <td>1.002164</td>\n",
       "      <td>-0.980187</td>\n",
       "      <td>-1.091084</td>\n",
       "    </tr>\n",
       "  </tbody>\n",
       "</table>\n",
       "<p>198 rows × 3 columns</p>\n",
       "</div>"
      ],
      "text/plain": [
       "           TV     radio  newspaper\n",
       "0    0.978697  0.989521   1.604196\n",
       "1   -1.199012  1.090705   0.831044\n",
       "2   -1.519332  1.535913   1.607052\n",
       "3    0.056456  1.225616   1.283768\n",
       "4    0.400243 -0.831784   1.280622\n",
       "..        ...       ...        ...\n",
       "193 -1.272932 -1.310720  -0.687435\n",
       "194 -0.615864 -1.229773  -1.146090\n",
       "195  0.355657 -0.932968  -1.314437\n",
       "196  1.606431  1.272836   1.517395\n",
       "197  1.002164 -0.980187  -1.091084\n",
       "\n",
       "[198 rows x 3 columns]"
      ]
     },
     "execution_count": 67,
     "metadata": {},
     "output_type": "execute_result"
    }
   ],
   "source": [
    "from sklearn.preprocessing import StandardScaler\n",
    "\n",
    "scaler = StandardScaler()\n",
    "x = pd.DataFrame(scaler.fit_transform(x), columns=x.columns)\n",
    "x"
   ]
  },
  {
   "cell_type": "markdown",
   "id": "250f33ea",
   "metadata": {},
   "source": [
    "This is our scaled data using standard scaler.\n",
    "\n"
   ]
  },
  {
   "cell_type": "markdown",
   "id": "85ec5f29",
   "metadata": {},
   "source": [
    "creating the Model for the predictions\n"
   ]
  },
  {
   "cell_type": "markdown",
   "id": "c0a5fda2",
   "metadata": {},
   "source": [
    "Finding best random state\n"
   ]
  },
  {
   "cell_type": "code",
   "execution_count": 68,
   "id": "41212d77",
   "metadata": {},
   "outputs": [],
   "source": [
    "from sklearn.model_selection import train_test_split\n",
    "from sklearn.metrics import mean_absolute_error\n",
    "from sklearn.metrics import mean_squared_error\n",
    "from sklearn.metrics import r2_score"
   ]
  },
  {
   "cell_type": "code",
   "execution_count": 69,
   "id": "94ea0549",
   "metadata": {},
   "outputs": [
    {
     "name": "stdout",
     "output_type": "stream",
     "text": [
      "Maximum r2 score is  0.9358346827439895 on Random_state  90\n"
     ]
    }
   ],
   "source": [
    "from sklearn.linear_model import LinearRegression\n",
    "maxAccu=0\n",
    "maxRS=0\n",
    "for i in range(1,200):\n",
    "    x_train,x_test,y_train,y_test = train_test_split(x,y,test_size=.30, random_state=i)\n",
    "    mod = LinearRegression()\n",
    "    mod.fit(x_train, y_train)\n",
    "    pred = mod.predict(x_test)\n",
    "    acc = r2_score(y_test, pred)\n",
    "    if acc>maxAccu:\n",
    "        maxAccu = acc\n",
    "        maxRS = i\n",
    "print(\"Maximum r2 score is \",maxAccu,\"on Random_state \",maxRS)"
   ]
  },
  {
   "cell_type": "markdown",
   "id": "c955f0b9",
   "metadata": {},
   "source": [
    "So, here getting the maximum r2 score as 93% on the random state 90.\n",
    "\n"
   ]
  },
  {
   "cell_type": "code",
   "execution_count": 70,
   "id": "6d6a5d17",
   "metadata": {},
   "outputs": [],
   "source": [
    "x_train,x_test,y_train,y_test=train_test_split(x,y,test_size=.30,random_state = maxRS)\n"
   ]
  },
  {
   "cell_type": "markdown",
   "id": "00408833",
   "metadata": {},
   "source": [
    "As we have to predict the sales thus it is a continious value , so we have to can understand by this that these problem is a Regression problem"
   ]
  },
  {
   "cell_type": "markdown",
   "id": "8e0176d1",
   "metadata": {},
   "source": [
    "Importing all the Regression Algorithms\n"
   ]
  },
  {
   "cell_type": "code",
   "execution_count": 71,
   "id": "6d947d05",
   "metadata": {},
   "outputs": [],
   "source": [
    "from sklearn.linear_model import LinearRegression\n",
    "from sklearn.ensemble import RandomForestRegressor\n",
    "from sklearn.tree import DecisionTreeRegressor\n",
    "from sklearn.neighbors import KNeighborsRegressor as KNN\n",
    "from sklearn.svm import SVR\n",
    "from sklearn.linear_model import SGDRegressor\n",
    "from sklearn.metrics import classification_report\n",
    "from sklearn.model_selection import cross_val_score"
   ]
  },
  {
   "cell_type": "markdown",
   "id": "dee7c8a7",
   "metadata": {},
   "source": [
    "Linear Regression\n"
   ]
  },
  {
   "cell_type": "code",
   "execution_count": 72,
   "id": "f7b5c41d",
   "metadata": {},
   "outputs": [
    {
     "name": "stdout",
     "output_type": "stream",
     "text": [
      "R2_score: 0.9358346827439895\n",
      "Mean abs error: 1.0293867863083987\n",
      "Mean squared error: 1.5796296226361313\n"
     ]
    }
   ],
   "source": [
    "# Checking r2score for Linear Regression\n",
    "LR = LinearRegression()\n",
    "LR.fit(x_train,y_train)\n",
    "\n",
    "# prediction\n",
    "predLR=LR.predict(x_test)\n",
    "print('R2_score:',r2_score(y_test,predLR))\n",
    "print('Mean abs error:',mean_absolute_error(y_test, predLR))\n",
    "print('Mean squared error:',mean_squared_error(y_test, predLR))"
   ]
  },
  {
   "cell_type": "code",
   "execution_count": 73,
   "id": "87576ce7",
   "metadata": {},
   "outputs": [
    {
     "data": {
      "image/png": "[encoded data removed]",
      "text/plain": [
       "<Figure size 720x432 with 1 Axes>"
      ]
     },
     "metadata": {
      "needs_background": "light"
     },
     "output_type": "display_data"
    }
   ],
   "source": [
    "#Verifying the performance of the model by graph\n",
    "plt.figure(figsize=(10,6))\n",
    "plt.scatter(x=y_test,y=predLR,color='c')\n",
    "plt.plot(y_test,y_test,color='b')\n",
    "plt.xlabel(\"Actual sales\")\n",
    "plt.ylabel(\"Predicted sales\")\n",
    "plt.title(\"Linear regressor\")\n",
    "plt.show()"
   ]
  },
  {
   "cell_type": "markdown",
   "id": "4e56b8f7",
   "metadata": {},
   "source": [
    "So we can see that we have got a very good accuracy with the help of Linear regression model which is 93%\n",
    "\n"
   ]
  },
  {
   "cell_type": "markdown",
   "id": "2d5b563f",
   "metadata": {},
   "source": [
    "Random Forest Regressor\n"
   ]
  },
  {
   "cell_type": "code",
   "execution_count": 74,
   "id": "b7201392",
   "metadata": {},
   "outputs": [
    {
     "name": "stdout",
     "output_type": "stream",
     "text": [
      "R2_Score: 0.9736204897912449\n",
      "Mean abs error: 0.6600444444444512\n",
      "Mean squared error: 0.6494140064814905\n"
     ]
    }
   ],
   "source": [
    "# Checking R2 score for Random Forest Regressor\n",
    "RFR=RandomForestRegressor(n_estimators=600, random_state=90)\n",
    "RFR.fit(x_train,y_train)\n",
    "\n",
    "# prediction\n",
    "predRFR=RFR.predict(x_test)\n",
    "print('R2_Score:',r2_score(y_test,predRFR))\n",
    "print('Mean abs error:',mean_absolute_error(y_test, predRFR))\n",
    "print('Mean squared error:',mean_squared_error(y_test, predRFR))"
   ]
  },
  {
   "cell_type": "code",
   "execution_count": 75,
   "id": "cc018399",
   "metadata": {},
   "outputs": [
    {
     "data": {
      "image/png": "[encoded data removed]",
      "text/plain": [
       "<Figure size 720x432 with 1 Axes>"
      ]
     },
     "metadata": {
      "needs_background": "light"
     },
     "output_type": "display_data"
    }
   ],
   "source": [
    "#Verifying the performance of the model by graph\n",
    "plt.figure(figsize=(10,6))\n",
    "plt.scatter(x=y_test,y=predRFR,color='black')\n",
    "plt.plot(y_test,y_test,color='b')\n",
    "plt.xlabel(\"Actual sales\")\n",
    "plt.ylabel(\"Predicted sales\")\n",
    "plt.title(\"Random  forest  regressor\")\n",
    "plt.show()"
   ]
  },
  {
   "cell_type": "markdown",
   "id": "f0780b35",
   "metadata": {},
   "source": [
    "The R2 score using Random Forest Regressor is 97%.\n",
    "\n"
   ]
  },
  {
   "cell_type": "markdown",
   "id": "d5c181fc",
   "metadata": {},
   "source": [
    "KNN Regressor\n"
   ]
  },
  {
   "cell_type": "code",
   "execution_count": 77,
   "id": "331262df",
   "metadata": {},
   "outputs": [
    {
     "name": "stdout",
     "output_type": "stream",
     "text": [
      "R2_Score: 0.925394255631917\n",
      "Mean abs error: 0.9446666666666669\n",
      "Mean squared error: 1.836653333333334\n"
     ]
    }
   ],
   "source": [
    "# Checking R2 score for KNN regressor\n",
    "knn=KNN()\n",
    "knn.fit(x_train,y_train)\n",
    "\n",
    "#prediction\n",
    "predknn=knn.predict(x_test)\n",
    "print('R2_Score:',r2_score(y_test,predknn))\n",
    "print('Mean abs error:',mean_absolute_error(y_test, predknn))\n",
    "print('Mean squared error:',mean_squared_error(y_test, predknn))"
   ]
  },
  {
   "cell_type": "code",
   "execution_count": 78,
   "id": "698f395f",
   "metadata": {},
   "outputs": [
    {
     "data": {
      "image/png": "[encoded data removed]",
      "text/plain": [
       "<Figure size 720x432 with 1 Axes>"
      ]
     },
     "metadata": {
      "needs_background": "light"
     },
     "output_type": "display_data"
    }
   ],
   "source": [
    "#Verifying the performance of the model by graph\n",
    "plt.figure(figsize=(10,6))\n",
    "plt.scatter(x=y_test,y=predknn,color='orange')\n",
    "plt.plot(y_test,y_test,color='b')\n",
    "plt.xlabel(\"Actual sales\")\n",
    "plt.ylabel(\"Predicted sales\")\n",
    "plt.title(\"K-nearest neighbors  regressor\")\n",
    "plt.show()"
   ]
  },
  {
   "cell_type": "markdown",
   "id": "0cf529cb",
   "metadata": {},
   "source": [
    "The R2 score using KNN Regressor is 92%.\n",
    "\n"
   ]
  },
  {
   "cell_type": "markdown",
   "id": "2401bca8",
   "metadata": {},
   "source": [
    "Stochastic Gradient Descent Regressor\n"
   ]
  },
  {
   "cell_type": "code",
   "execution_count": 79,
   "id": "966534d3",
   "metadata": {},
   "outputs": [
    {
     "name": "stdout",
     "output_type": "stream",
     "text": [
      "R2_Score: 0.934892062263391\n",
      "Mean abs error: 1.0415680679082204\n",
      "Mean squared error: 1.602835168836673\n"
     ]
    }
   ],
   "source": [
    "# Checking R2 score for SGD Regressor\n",
    "SGD=SGDRegressor(epsilon=1, max_iter=500, alpha=0.001,fit_intercept=True)\n",
    "SGD.fit(x_train,y_train)\n",
    "\n",
    "#prediction\n",
    "predSGD=SGD.predict(x_test)\n",
    "print('R2_Score:',r2_score(y_test,predSGD))\n",
    "print('Mean abs error:',mean_absolute_error(y_test, predSGD))\n",
    "print('Mean squared error:',mean_squared_error(y_test, predSGD))"
   ]
  },
  {
   "cell_type": "markdown",
   "id": "24f50dd9",
   "metadata": {},
   "source": [
    "The R2 score using SGD Regressor is 93%\n",
    "\n"
   ]
  },
  {
   "cell_type": "code",
   "execution_count": 80,
   "id": "dedff88b",
   "metadata": {},
   "outputs": [
    {
     "data": {
      "image/png": "[encoded data removed]",
      "text/plain": [
       "<Figure size 720x432 with 1 Axes>"
      ]
     },
     "metadata": {
      "needs_background": "light"
     },
     "output_type": "display_data"
    }
   ],
   "source": [
    "#Verifying the performance of the model by graph\n",
    "plt.figure(figsize=(10,6))\n",
    "sns.scatterplot(x=y_test,y=predSGD,color='purple')\n",
    "plt.plot(y_test,y_test,color='g')\n",
    "plt.xlabel(\"Actual sales\")\n",
    "plt.ylabel(\"Predicted sales\")\n",
    "plt.title(\"Stochastic Gradient descent regressor\")\n",
    "plt.show()"
   ]
  },
  {
   "cell_type": "markdown",
   "id": "0e5d2027",
   "metadata": {},
   "source": [
    "Checking the cross validation score\n"
   ]
  },
  {
   "cell_type": "markdown",
   "id": "d4a7f5e3",
   "metadata": {},
   "source": [
    "Thus we have good accuracy on mostly all the models but there might be chances that they are overfitted while training so for removing the Over fitting we have to use cross validation."
   ]
  },
  {
   "cell_type": "code",
   "execution_count": 81,
   "id": "05f39278",
   "metadata": {},
   "outputs": [],
   "source": [
    "from sklearn.model_selection import cross_val_score\n"
   ]
  },
  {
   "cell_type": "code",
   "execution_count": 82,
   "id": "45a7d33b",
   "metadata": {},
   "outputs": [
    {
     "name": "stdout",
     "output_type": "stream",
     "text": [
      "The CV score  for Linear_regression is : 0.8840746377370332\n"
     ]
    }
   ],
   "source": [
    "# Checking cv score for Linear Regression\n",
    "print('The CV score  for Linear_regression is :',cross_val_score(LR,x,y,cv=7).mean())"
   ]
  },
  {
   "cell_type": "code",
   "execution_count": 83,
   "id": "877e7727",
   "metadata": {},
   "outputs": [
    {
     "name": "stdout",
     "output_type": "stream",
     "text": [
      "The CV  score for  the Random forest regressor is: 0.9772000164869434\n"
     ]
    }
   ],
   "source": [
    "# Checking cv score for Random Forest Regression\n",
    "print(\"The CV  score for  the Random forest regressor is:\",cross_val_score(RFR,x,y,cv=7).mean())"
   ]
  },
  {
   "cell_type": "code",
   "execution_count": 84,
   "id": "e4c58243",
   "metadata": {},
   "outputs": [
    {
     "name": "stdout",
     "output_type": "stream",
     "text": [
      "The CV score  for  the KNN regressor is : 0.9353670698706963\n"
     ]
    }
   ],
   "source": [
    "# Checking cv score for KNN Regression\n",
    "print('The CV score  for  the KNN regressor is :',cross_val_score(knn,x,y,cv=7).mean())\n"
   ]
  },
  {
   "cell_type": "code",
   "execution_count": 85,
   "id": "bfc56421",
   "metadata": {},
   "outputs": [
    {
     "name": "stdout",
     "output_type": "stream",
     "text": [
      "The  CV score for the SGD  regressor is : 0.8845749230982768\n"
     ]
    }
   ],
   "source": [
    "# Checking cv score for SGD Regression\n",
    "print('The  CV score for the SGD  regressor is :',cross_val_score(SGD,x,y,cv=7).mean())"
   ]
  },
  {
   "cell_type": "markdown",
   "id": "cc340bb3",
   "metadata": {},
   "source": [
    "From the above observation, the difference between R2 score and the cross validation score we conclude that Random Forest Regressor is our best fitting model\n",
    "\n"
   ]
  },
  {
   "cell_type": "code",
   "execution_count": 87,
   "id": "cdfa61c7",
   "metadata": {},
   "outputs": [],
   "source": [
    "score= pd.DataFrame({'CV_RFR':0.9772000164869434, 'R2_score_RFR':0.9736204897912449}, index=['0'])\n"
   ]
  },
  {
   "cell_type": "code",
   "execution_count": 88,
   "id": "b76c3533",
   "metadata": {},
   "outputs": [
    {
     "data": {
      "text/html": [
       "<div>\n",
       "<style scoped>\n",
       "    .dataframe tbody tr th:only-of-type {\n",
       "        vertical-align: middle;\n",
       "    }\n",
       "\n",
       "    .dataframe tbody tr th {\n",
       "        vertical-align: top;\n",
       "    }\n",
       "\n",
       "    .dataframe thead th {\n",
       "        text-align: right;\n",
       "    }\n",
       "</style>\n",
       "<table border=\"1\" class=\"dataframe\">\n",
       "  <thead>\n",
       "    <tr style=\"text-align: right;\">\n",
       "      <th></th>\n",
       "      <th>CV_RFR</th>\n",
       "      <th>R2_score_RFR</th>\n",
       "    </tr>\n",
       "  </thead>\n",
       "  <tbody>\n",
       "    <tr>\n",
       "      <th>0</th>\n",
       "      <td>0.9772</td>\n",
       "      <td>0.97362</td>\n",
       "    </tr>\n",
       "  </tbody>\n",
       "</table>\n",
       "</div>"
      ],
      "text/plain": [
       "   CV_RFR  R2_score_RFR\n",
       "0  0.9772       0.97362"
      ]
     },
     "execution_count": 88,
     "metadata": {},
     "output_type": "execute_result"
    }
   ],
   "source": [
    "score\n"
   ]
  },
  {
   "cell_type": "markdown",
   "id": "cf109d45",
   "metadata": {},
   "source": [
    "so we can see that after using the CV on random forest our model is working lttle better then earlier and got a very good score of 97%\n",
    "\n"
   ]
  },
  {
   "cell_type": "markdown",
   "id": "313040d0",
   "metadata": {},
   "source": [
    "Hyperparameter tuning\n"
   ]
  },
  {
   "cell_type": "code",
   "execution_count": 89,
   "id": "84ad8d1b",
   "metadata": {},
   "outputs": [],
   "source": [
    "from sklearn.model_selection import GridSearchCV\n"
   ]
  },
  {
   "cell_type": "code",
   "execution_count": 90,
   "id": "105b5518",
   "metadata": {},
   "outputs": [],
   "source": [
    "#RandomForestRegressor\n",
    "parameters = {'criterion':['mse', 'mae'],\n",
    "             'max_features':['auto', 'sqrt', 'log2'],\n",
    "             'n_estimators':[0,400],\n",
    "             'max_depth':[2,4,6]}"
   ]
  },
  {
   "cell_type": "code",
   "execution_count": 91,
   "id": "2d10f9d2",
   "metadata": {},
   "outputs": [],
   "source": [
    "GCV = GridSearchCV(RandomForestRegressor(),parameters,cv=6)\n"
   ]
  },
  {
   "cell_type": "code",
   "execution_count": 92,
   "id": "4bf14d2b",
   "metadata": {},
   "outputs": [
    {
     "data": {
      "text/html": [
       "<style>#sk-container-id-1 {color: black;background-color: white;}#sk-container-id-1 pre{padding: 0;}#sk-container-id-1 div.sk-toggleable {background-color: white;}#sk-container-id-1 label.sk-toggleable__label {cursor: pointer;display: block;width: 100%;margin-bottom: 0;padding: 0.3em;box-sizing: border-box;text-align: center;}#sk-container-id-1 label.sk-toggleable__label-arrow:before {content: \"▸\";float: left;margin-right: 0.25em;color: #696969;}#sk-container-id-1 label.sk-toggleable__label-arrow:hover:before {color: black;}#sk-container-id-1 div.sk-estimator:hover label.sk-toggleable__label-arrow:before {color: black;}#sk-container-id-1 div.sk-toggleable__content {max-height: 0;max-width: 0;overflow: hidden;text-align: left;background-color: #f0f8ff;}#sk-container-id-1 div.sk-toggleable__content pre {margin: 0.2em;color: black;border-radius: 0.25em;background-color: #f0f8ff;}#sk-container-id-1 input.sk-toggleable__control:checked~div.sk-toggleable__content {max-height: 200px;max-width: 100%;overflow: auto;}#sk-container-id-1 input.sk-toggleable__control:checked~label.sk-toggleable__label-arrow:before {content: \"▾\";}#sk-container-id-1 div.sk-estimator input.sk-toggleable__control:checked~label.sk-toggleable__label {background-color: #d4ebff;}#sk-container-id-1 div.sk-label input.sk-toggleable__control:checked~label.sk-toggleable__label {background-color: #d4ebff;}#sk-container-id-1 input.sk-hidden--visually {border: 0;clip: rect(1px 1px 1px 1px);clip: rect(1px, 1px, 1px, 1px);height: 1px;margin: -1px;overflow: hidden;padding: 0;position: absolute;width: 1px;}#sk-container-id-1 div.sk-estimator {font-family: monospace;background-color: #f0f8ff;border: 1px dotted black;border-radius: 0.25em;box-sizing: border-box;margin-bottom: 0.5em;}#sk-container-id-1 div.sk-estimator:hover {background-color: #d4ebff;}#sk-container-id-1 div.sk-parallel-item::after {content: \"\";width: 100%;border-bottom: 1px solid gray;flex-grow: 1;}#sk-container-id-1 div.sk-label:hover label.sk-toggleable__label {background-color: #d4ebff;}#sk-container-id-1 div.sk-serial::before {content: \"\";position: absolute;border-left: 1px solid gray;box-sizing: border-box;top: 0;bottom: 0;left: 50%;z-index: 0;}#sk-container-id-1 div.sk-serial {display: flex;flex-direction: column;align-items: center;background-color: white;padding-right: 0.2em;padding-left: 0.2em;position: relative;}#sk-container-id-1 div.sk-item {position: relative;z-index: 1;}#sk-container-id-1 div.sk-parallel {display: flex;align-items: stretch;justify-content: center;background-color: white;position: relative;}#sk-container-id-1 div.sk-item::before, #sk-container-id-1 div.sk-parallel-item::before {content: \"\";position: absolute;border-left: 1px solid gray;box-sizing: border-box;top: 0;bottom: 0;left: 50%;z-index: -1;}#sk-container-id-1 div.sk-parallel-item {display: flex;flex-direction: column;z-index: 1;position: relative;background-color: white;}#sk-container-id-1 div.sk-parallel-item:first-child::after {align-self: flex-end;width: 50%;}#sk-container-id-1 div.sk-parallel-item:last-child::after {align-self: flex-start;width: 50%;}#sk-container-id-1 div.sk-parallel-item:only-child::after {width: 0;}#sk-container-id-1 div.sk-dashed-wrapped {border: 1px dashed gray;margin: 0 0.4em 0.5em 0.4em;box-sizing: border-box;padding-bottom: 0.4em;background-color: white;}#sk-container-id-1 div.sk-label label {font-family: monospace;font-weight: bold;display: inline-block;line-height: 1.2em;}#sk-container-id-1 div.sk-label-container {text-align: center;}#sk-container-id-1 div.sk-container {/* jupyter's `normalize.less` sets `[hidden] { display: none; }` but bootstrap.min.css set `[hidden] { display: none !important; }` so we also need the `!important` here to be able to override the default hidden behavior on the sphinx rendered scikit-learn.org. See: https://github.com/scikit-learn/scikit-learn/issues/21755 */display: inline-block !important;position: relative;}#sk-container-id-1 div.sk-text-repr-fallback {display: none;}</style><div id=\"sk-container-id-1\" class=\"sk-top-container\"><div class=\"sk-text-repr-fallback\"><pre>GridSearchCV(cv=6, estimator=RandomForestRegressor(),\n",
       "             param_grid={&#x27;criterion&#x27;: [&#x27;mse&#x27;, &#x27;mae&#x27;], &#x27;max_depth&#x27;: [2, 4, 6],\n",
       "                         &#x27;max_features&#x27;: [&#x27;auto&#x27;, &#x27;sqrt&#x27;, &#x27;log2&#x27;],\n",
       "                         &#x27;n_estimators&#x27;: [0, 400]})</pre><b>In a Jupyter environment, please rerun this cell to show the HTML representation or trust the notebook. <br />On GitHub, the HTML representation is unable to render, please try loading this page with nbviewer.org.</b></div><div class=\"sk-container\" hidden><div class=\"sk-item sk-dashed-wrapped\"><div class=\"sk-label-container\"><div class=\"sk-label sk-toggleable\"><input class=\"sk-toggleable__control sk-hidden--visually\" id=\"sk-estimator-id-1\" type=\"checkbox\" ><label for=\"sk-estimator-id-1\" class=\"sk-toggleable__label sk-toggleable__label-arrow\">GridSearchCV</label><div class=\"sk-toggleable__content\"><pre>GridSearchCV(cv=6, estimator=RandomForestRegressor(),\n",
       "             param_grid={&#x27;criterion&#x27;: [&#x27;mse&#x27;, &#x27;mae&#x27;], &#x27;max_depth&#x27;: [2, 4, 6],\n",
       "                         &#x27;max_features&#x27;: [&#x27;auto&#x27;, &#x27;sqrt&#x27;, &#x27;log2&#x27;],\n",
       "                         &#x27;n_estimators&#x27;: [0, 400]})</pre></div></div></div><div class=\"sk-parallel\"><div class=\"sk-parallel-item\"><div class=\"sk-item\"><div class=\"sk-label-container\"><div class=\"sk-label sk-toggleable\"><input class=\"sk-toggleable__control sk-hidden--visually\" id=\"sk-estimator-id-2\" type=\"checkbox\" ><label for=\"sk-estimator-id-2\" class=\"sk-toggleable__label sk-toggleable__label-arrow\">estimator: RandomForestRegressor</label><div class=\"sk-toggleable__content\"><pre>RandomForestRegressor()</pre></div></div></div><div class=\"sk-serial\"><div class=\"sk-item\"><div class=\"sk-estimator sk-toggleable\"><input class=\"sk-toggleable__control sk-hidden--visually\" id=\"sk-estimator-id-3\" type=\"checkbox\" ><label for=\"sk-estimator-id-3\" class=\"sk-toggleable__label sk-toggleable__label-arrow\">RandomForestRegressor</label><div class=\"sk-toggleable__content\"><pre>RandomForestRegressor()</pre></div></div></div></div></div></div></div></div></div></div>"
      ],
      "text/plain": [
       "GridSearchCV(cv=6, estimator=RandomForestRegressor(),\n",
       "             param_grid={'criterion': ['mse', 'mae'], 'max_depth': [2, 4, 6],\n",
       "                         'max_features': ['auto', 'sqrt', 'log2'],\n",
       "                         'n_estimators': [0, 400]})"
      ]
     },
     "execution_count": 92,
     "metadata": {},
     "output_type": "execute_result"
    }
   ],
   "source": [
    "GCV.fit(x_train,y_train)\n"
   ]
  },
  {
   "cell_type": "markdown",
   "id": "9ae77b39",
   "metadata": {},
   "source": [
    "This gives the best parameter value.\n",
    "\n"
   ]
  },
  {
   "cell_type": "code",
   "execution_count": 93,
   "id": "8aaaa189",
   "metadata": {},
   "outputs": [
    {
     "name": "stdout",
     "output_type": "stream",
     "text": [
      "R2_Score: 96.9860628322887\n"
     ]
    }
   ],
   "source": [
    "Add_sales = RandomForestRegressor(criterion='mae', max_depth=6, max_features='auto', n_estimators=300)\n",
    "Add_sales.fit(x_train, y_train)\n",
    "pred_GCV = Add_sales.predict(x_test)\n",
    "print('R2_Score:',r2_score(y_test,pred_GCV)*100)"
   ]
  },
  {
   "cell_type": "markdown",
   "id": "75e5e9eb",
   "metadata": {},
   "source": [
    "The final model Graph\n"
   ]
  },
  {
   "cell_type": "code",
   "execution_count": 94,
   "id": "87449d58",
   "metadata": {},
   "outputs": [
    {
     "data": {
      "image/png": "[encoded data removed]",
      "text/plain": [
       "<Figure size 1080x432 with 1 Axes>"
      ]
     },
     "metadata": {
      "needs_background": "light"
     },
     "output_type": "display_data"
    }
   ],
   "source": [
    "#Verifying the performance of the model by graph\n",
    "plt.figure(figsize=(15,6))\n",
    "plt.scatter(x=y_test,y=pred_GCV, edgecolors='red', linewidth=1, cmap='Set3')\n",
    "plt.plot(y_test,y_test,color='g')\n",
    "plt.xlabel(\"Actual sales\")\n",
    "plt.ylabel(\"Predicted sales\")\n",
    "plt.title(\" Final Hypertuning Model performance \")\n",
    "plt.show()"
   ]
  },
  {
   "cell_type": "markdown",
   "id": "a7394a82",
   "metadata": {},
   "source": [
    "After tuning the model Random Forest Regressor, we are getting R2 score as 96% which is good.\n",
    "\n"
   ]
  },
  {
   "cell_type": "markdown",
   "id": "5efff31b",
   "metadata": {},
   "source": [
    "Saving the model\n"
   ]
  },
  {
   "cell_type": "code",
   "execution_count": 95,
   "id": "974ab813",
   "metadata": {},
   "outputs": [
    {
     "data": {
      "text/plain": [
       "['Add_Sales_Channel.obj']"
      ]
     },
     "execution_count": 95,
     "metadata": {},
     "output_type": "execute_result"
    }
   ],
   "source": [
    "import joblib\n",
    "\n",
    "joblib.dump(Add_sales,'Add_Sales_Channel.obj')"
   ]
  },
  {
   "cell_type": "code",
   "execution_count": 96,
   "id": "ed0831bc",
   "metadata": {},
   "outputs": [],
   "source": [
    "loadmodel = joblib.load('Add_Sales_Channel.obj')\n"
   ]
  },
  {
   "cell_type": "markdown",
   "id": "8d427b5a",
   "metadata": {},
   "source": [
    "Conclusion & prediction by the final model\n"
   ]
  },
  {
   "cell_type": "code",
   "execution_count": 97,
   "id": "16df6218",
   "metadata": {},
   "outputs": [
    {
     "data": {
      "text/html": [
       "<div>\n",
       "<style scoped>\n",
       "    .dataframe tbody tr th:only-of-type {\n",
       "        vertical-align: middle;\n",
       "    }\n",
       "\n",
       "    .dataframe tbody tr th {\n",
       "        vertical-align: top;\n",
       "    }\n",
       "\n",
       "    .dataframe thead th {\n",
       "        text-align: right;\n",
       "    }\n",
       "</style>\n",
       "<table border=\"1\" class=\"dataframe\">\n",
       "  <thead>\n",
       "    <tr style=\"text-align: right;\">\n",
       "      <th></th>\n",
       "      <th>Original</th>\n",
       "      <th>Predicted</th>\n",
       "    </tr>\n",
       "  </thead>\n",
       "  <tbody>\n",
       "    <tr>\n",
       "      <th>0</th>\n",
       "      <td>18.0</td>\n",
       "      <td>17.744000</td>\n",
       "    </tr>\n",
       "    <tr>\n",
       "      <th>1</th>\n",
       "      <td>5.6</td>\n",
       "      <td>6.644500</td>\n",
       "    </tr>\n",
       "    <tr>\n",
       "      <th>2</th>\n",
       "      <td>22.3</td>\n",
       "      <td>23.042167</td>\n",
       "    </tr>\n",
       "    <tr>\n",
       "      <th>3</th>\n",
       "      <td>19.6</td>\n",
       "      <td>19.754333</td>\n",
       "    </tr>\n",
       "    <tr>\n",
       "      <th>4</th>\n",
       "      <td>16.6</td>\n",
       "      <td>15.692833</td>\n",
       "    </tr>\n",
       "    <tr>\n",
       "      <th>5</th>\n",
       "      <td>22.2</td>\n",
       "      <td>20.466167</td>\n",
       "    </tr>\n",
       "    <tr>\n",
       "      <th>6</th>\n",
       "      <td>21.5</td>\n",
       "      <td>20.325667</td>\n",
       "    </tr>\n",
       "    <tr>\n",
       "      <th>7</th>\n",
       "      <td>13.2</td>\n",
       "      <td>12.619667</td>\n",
       "    </tr>\n",
       "    <tr>\n",
       "      <th>8</th>\n",
       "      <td>22.4</td>\n",
       "      <td>23.030500</td>\n",
       "    </tr>\n",
       "    <tr>\n",
       "      <th>9</th>\n",
       "      <td>8.8</td>\n",
       "      <td>8.360833</td>\n",
       "    </tr>\n",
       "    <tr>\n",
       "      <th>10</th>\n",
       "      <td>21.7</td>\n",
       "      <td>22.975667</td>\n",
       "    </tr>\n",
       "    <tr>\n",
       "      <th>11</th>\n",
       "      <td>25.4</td>\n",
       "      <td>24.866333</td>\n",
       "    </tr>\n",
       "    <tr>\n",
       "      <th>12</th>\n",
       "      <td>10.1</td>\n",
       "      <td>11.021833</td>\n",
       "    </tr>\n",
       "    <tr>\n",
       "      <th>13</th>\n",
       "      <td>20.7</td>\n",
       "      <td>20.155333</td>\n",
       "    </tr>\n",
       "    <tr>\n",
       "      <th>14</th>\n",
       "      <td>24.4</td>\n",
       "      <td>22.009333</td>\n",
       "    </tr>\n",
       "    <tr>\n",
       "      <th>15</th>\n",
       "      <td>7.0</td>\n",
       "      <td>7.314167</td>\n",
       "    </tr>\n",
       "    <tr>\n",
       "      <th>16</th>\n",
       "      <td>13.6</td>\n",
       "      <td>11.861833</td>\n",
       "    </tr>\n",
       "    <tr>\n",
       "      <th>17</th>\n",
       "      <td>10.4</td>\n",
       "      <td>11.305167</td>\n",
       "    </tr>\n",
       "    <tr>\n",
       "      <th>18</th>\n",
       "      <td>15.6</td>\n",
       "      <td>15.527000</td>\n",
       "    </tr>\n",
       "    <tr>\n",
       "      <th>19</th>\n",
       "      <td>11.8</td>\n",
       "      <td>10.431167</td>\n",
       "    </tr>\n",
       "    <tr>\n",
       "      <th>20</th>\n",
       "      <td>7.6</td>\n",
       "      <td>7.140500</td>\n",
       "    </tr>\n",
       "    <tr>\n",
       "      <th>21</th>\n",
       "      <td>14.1</td>\n",
       "      <td>14.926500</td>\n",
       "    </tr>\n",
       "    <tr>\n",
       "      <th>22</th>\n",
       "      <td>11.6</td>\n",
       "      <td>11.290167</td>\n",
       "    </tr>\n",
       "    <tr>\n",
       "      <th>23</th>\n",
       "      <td>10.3</td>\n",
       "      <td>11.065333</td>\n",
       "    </tr>\n",
       "    <tr>\n",
       "      <th>24</th>\n",
       "      <td>21.4</td>\n",
       "      <td>20.406833</td>\n",
       "    </tr>\n",
       "    <tr>\n",
       "      <th>25</th>\n",
       "      <td>12.2</td>\n",
       "      <td>12.160833</td>\n",
       "    </tr>\n",
       "    <tr>\n",
       "      <th>26</th>\n",
       "      <td>11.2</td>\n",
       "      <td>11.611000</td>\n",
       "    </tr>\n",
       "    <tr>\n",
       "      <th>27</th>\n",
       "      <td>9.7</td>\n",
       "      <td>10.158833</td>\n",
       "    </tr>\n",
       "    <tr>\n",
       "      <th>28</th>\n",
       "      <td>10.3</td>\n",
       "      <td>10.981000</td>\n",
       "    </tr>\n",
       "    <tr>\n",
       "      <th>29</th>\n",
       "      <td>21.8</td>\n",
       "      <td>21.041667</td>\n",
       "    </tr>\n",
       "    <tr>\n",
       "      <th>30</th>\n",
       "      <td>12.8</td>\n",
       "      <td>12.852500</td>\n",
       "    </tr>\n",
       "    <tr>\n",
       "      <th>31</th>\n",
       "      <td>10.5</td>\n",
       "      <td>10.795500</td>\n",
       "    </tr>\n",
       "    <tr>\n",
       "      <th>32</th>\n",
       "      <td>17.6</td>\n",
       "      <td>16.035333</td>\n",
       "    </tr>\n",
       "    <tr>\n",
       "      <th>33</th>\n",
       "      <td>5.5</td>\n",
       "      <td>6.336167</td>\n",
       "    </tr>\n",
       "    <tr>\n",
       "      <th>34</th>\n",
       "      <td>9.7</td>\n",
       "      <td>9.952500</td>\n",
       "    </tr>\n",
       "    <tr>\n",
       "      <th>35</th>\n",
       "      <td>11.8</td>\n",
       "      <td>11.475833</td>\n",
       "    </tr>\n",
       "    <tr>\n",
       "      <th>36</th>\n",
       "      <td>9.7</td>\n",
       "      <td>9.720000</td>\n",
       "    </tr>\n",
       "    <tr>\n",
       "      <th>37</th>\n",
       "      <td>11.7</td>\n",
       "      <td>12.444167</td>\n",
       "    </tr>\n",
       "    <tr>\n",
       "      <th>38</th>\n",
       "      <td>16.7</td>\n",
       "      <td>16.129333</td>\n",
       "    </tr>\n",
       "    <tr>\n",
       "      <th>39</th>\n",
       "      <td>16.1</td>\n",
       "      <td>14.843667</td>\n",
       "    </tr>\n",
       "    <tr>\n",
       "      <th>40</th>\n",
       "      <td>20.1</td>\n",
       "      <td>18.981500</td>\n",
       "    </tr>\n",
       "    <tr>\n",
       "      <th>41</th>\n",
       "      <td>11.5</td>\n",
       "      <td>12.111500</td>\n",
       "    </tr>\n",
       "    <tr>\n",
       "      <th>42</th>\n",
       "      <td>13.2</td>\n",
       "      <td>13.120500</td>\n",
       "    </tr>\n",
       "    <tr>\n",
       "      <th>43</th>\n",
       "      <td>15.0</td>\n",
       "      <td>16.459667</td>\n",
       "    </tr>\n",
       "    <tr>\n",
       "      <th>44</th>\n",
       "      <td>12.0</td>\n",
       "      <td>11.561833</td>\n",
       "    </tr>\n",
       "    <tr>\n",
       "      <th>45</th>\n",
       "      <td>18.0</td>\n",
       "      <td>18.085333</td>\n",
       "    </tr>\n",
       "    <tr>\n",
       "      <th>46</th>\n",
       "      <td>17.1</td>\n",
       "      <td>16.137000</td>\n",
       "    </tr>\n",
       "    <tr>\n",
       "      <th>47</th>\n",
       "      <td>15.5</td>\n",
       "      <td>15.059000</td>\n",
       "    </tr>\n",
       "    <tr>\n",
       "      <th>48</th>\n",
       "      <td>19.6</td>\n",
       "      <td>18.982667</td>\n",
       "    </tr>\n",
       "    <tr>\n",
       "      <th>49</th>\n",
       "      <td>20.2</td>\n",
       "      <td>19.636000</td>\n",
       "    </tr>\n",
       "    <tr>\n",
       "      <th>50</th>\n",
       "      <td>11.4</td>\n",
       "      <td>11.791500</td>\n",
       "    </tr>\n",
       "    <tr>\n",
       "      <th>51</th>\n",
       "      <td>14.6</td>\n",
       "      <td>12.781000</td>\n",
       "    </tr>\n",
       "    <tr>\n",
       "      <th>52</th>\n",
       "      <td>10.8</td>\n",
       "      <td>11.377333</td>\n",
       "    </tr>\n",
       "    <tr>\n",
       "      <th>53</th>\n",
       "      <td>7.6</td>\n",
       "      <td>8.368833</td>\n",
       "    </tr>\n",
       "    <tr>\n",
       "      <th>54</th>\n",
       "      <td>17.3</td>\n",
       "      <td>18.232167</td>\n",
       "    </tr>\n",
       "    <tr>\n",
       "      <th>55</th>\n",
       "      <td>15.5</td>\n",
       "      <td>15.135167</td>\n",
       "    </tr>\n",
       "    <tr>\n",
       "      <th>56</th>\n",
       "      <td>8.5</td>\n",
       "      <td>7.963000</td>\n",
       "    </tr>\n",
       "    <tr>\n",
       "      <th>57</th>\n",
       "      <td>11.6</td>\n",
       "      <td>11.669500</td>\n",
       "    </tr>\n",
       "    <tr>\n",
       "      <th>58</th>\n",
       "      <td>11.7</td>\n",
       "      <td>12.443833</td>\n",
       "    </tr>\n",
       "    <tr>\n",
       "      <th>59</th>\n",
       "      <td>11.0</td>\n",
       "      <td>11.442667</td>\n",
       "    </tr>\n",
       "  </tbody>\n",
       "</table>\n",
       "</div>"
      ],
      "text/plain": [
       "    Original  Predicted\n",
       "0       18.0  17.744000\n",
       "1        5.6   6.644500\n",
       "2       22.3  23.042167\n",
       "3       19.6  19.754333\n",
       "4       16.6  15.692833\n",
       "5       22.2  20.466167\n",
       "6       21.5  20.325667\n",
       "7       13.2  12.619667\n",
       "8       22.4  23.030500\n",
       "9        8.8   8.360833\n",
       "10      21.7  22.975667\n",
       "11      25.4  24.866333\n",
       "12      10.1  11.021833\n",
       "13      20.7  20.155333\n",
       "14      24.4  22.009333\n",
       "15       7.0   7.314167\n",
       "16      13.6  11.861833\n",
       "17      10.4  11.305167\n",
       "18      15.6  15.527000\n",
       "19      11.8  10.431167\n",
       "20       7.6   7.140500\n",
       "21      14.1  14.926500\n",
       "22      11.6  11.290167\n",
       "23      10.3  11.065333\n",
       "24      21.4  20.406833\n",
       "25      12.2  12.160833\n",
       "26      11.2  11.611000\n",
       "27       9.7  10.158833\n",
       "28      10.3  10.981000\n",
       "29      21.8  21.041667\n",
       "30      12.8  12.852500\n",
       "31      10.5  10.795500\n",
       "32      17.6  16.035333\n",
       "33       5.5   6.336167\n",
       "34       9.7   9.952500\n",
       "35      11.8  11.475833\n",
       "36       9.7   9.720000\n",
       "37      11.7  12.444167\n",
       "38      16.7  16.129333\n",
       "39      16.1  14.843667\n",
       "40      20.1  18.981500\n",
       "41      11.5  12.111500\n",
       "42      13.2  13.120500\n",
       "43      15.0  16.459667\n",
       "44      12.0  11.561833\n",
       "45      18.0  18.085333\n",
       "46      17.1  16.137000\n",
       "47      15.5  15.059000\n",
       "48      19.6  18.982667\n",
       "49      20.2  19.636000\n",
       "50      11.4  11.791500\n",
       "51      14.6  12.781000\n",
       "52      10.8  11.377333\n",
       "53       7.6   8.368833\n",
       "54      17.3  18.232167\n",
       "55      15.5  15.135167\n",
       "56       8.5   7.963000\n",
       "57      11.6  11.669500\n",
       "58      11.7  12.443833\n",
       "59      11.0  11.442667"
      ]
     },
     "execution_count": 97,
     "metadata": {},
     "output_type": "execute_result"
    }
   ],
   "source": [
    "import numpy as np\n",
    "a = np.array(y_test)\n",
    "predicted = np.array(loadmodel.predict(x_test))\n",
    "df_com = pd.DataFrame({\"Original\":a,\"Predicted\":predicted},index= range(len(a)))\n",
    "df_com"
   ]
  },
  {
   "cell_type": "code",
   "execution_count": 98,
   "id": "10451f83",
   "metadata": {},
   "outputs": [
    {
     "data": {
      "text/plain": [
       "<seaborn.axisgrid.JointGrid at 0x1c6476e2910>"
      ]
     },
     "execution_count": 98,
     "metadata": {},
     "output_type": "execute_result"
    },
    {
     "data": {
      "text/plain": [
       "<Figure size 864x360 with 0 Axes>"
      ]
     },
     "metadata": {},
     "output_type": "display_data"
    },
    {
     "data": {
      "image/png": "[encoded data removed]",
      "text/plain": [
       "<Figure size 432x432 with 3 Axes>"
      ]
     },
     "metadata": {
      "needs_background": "light"
     },
     "output_type": "display_data"
    }
   ],
   "source": [
    "plt.figure(figsize=(12,5))\n",
    "sns.jointplot(data =df_com, kind='scatter',ratio=8, palette ='Set1')"
   ]
  },
  {
   "cell_type": "code",
   "execution_count": 99,
   "id": "47b76329",
   "metadata": {},
   "outputs": [],
   "source": [
    "model = df_com.to_csv('sales_predictor.csv')\n",
    "model"
   ]
  },
  {
   "cell_type": "markdown",
   "id": "b43d085f",
   "metadata": {},
   "source": [
    "model prediction saved in CSV format\n"
   ]
  },
  {
   "cell_type": "code",
   "execution_count": null,
   "id": "ff50e635",
   "metadata": {},
   "outputs": [],
   "source": []
  }
 ],
 "metadata": {
  "kernelspec": {
   "display_name": "Python 3 (ipykernel)",
   "language": "python",
   "name": "python3"
  },
  "language_info": {
   "codemirror_mode": {
    "name": "ipython",
    "version": 3
   },
   "file_extension": ".py",
   "mimetype": "text/x-python",
   "name": "python",
   "nbconvert_exporter": "python",
   "pygments_lexer": "ipython3",
   "version": "3.9.12"
  }
 },
 "nbformat": 4,
 "nbformat_minor": 5
}
